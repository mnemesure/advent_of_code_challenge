{
 "cells": [
  {
   "cell_type": "markdown",
   "metadata": {},
   "source": [
    "# Advent of Code Challenges\n",
    "Code by Matthew Nemesure "
   ]
  },
  {
   "cell_type": "markdown",
   "metadata": {},
   "source": [
    "## Day 1"
   ]
  },
  {
   "cell_type": "markdown",
   "metadata": {},
   "source": [
    "### Part 1\n",
    "\n",
    "To do this, count the number of times a depth measurement increases from the previous measurement. (There is no measurement before the first measurement.)"
   ]
  },
  {
   "cell_type": "code",
   "execution_count": 4,
   "metadata": {},
   "outputs": [],
   "source": [
    "data = [] # Store measurements\n",
    "with open('day_1_data.txt') as f:\n",
    "    for i in f.readlines():\n",
    "        data.append(int(i.split(\"\\n\")[0]))"
   ]
  },
  {
   "cell_type": "code",
   "execution_count": 5,
   "metadata": {},
   "outputs": [
    {
     "data": {
      "text/plain": [
       "1374"
      ]
     },
     "execution_count": 5,
     "metadata": {},
     "output_type": "execute_result"
    }
   ],
   "source": [
    "def calc_increased(data):\n",
    "    increased = 0  # Store number of increases\n",
    "    for ind, item in enumerate(data):\n",
    "        if ind == 0:  # Skip first index\n",
    "            continue  \n",
    "        if item > data[ind-1]:  # Check if increased from previous data point\n",
    "            increased +=1  # Count it\n",
    "    return increased\n",
    "\n",
    "calc_increased(data)"
   ]
  },
  {
   "cell_type": "markdown",
   "metadata": {},
   "source": [
    "### Part 2\n",
    "\n",
    "Your goal now is to count the number of times the sum of measurements in this sliding window increases from the previous sum. So, compare A with B, then compare B with C, then C with D, and so on. Stop when there aren't enough measurements left to create a new three-measurement sum."
   ]
  },
  {
   "cell_type": "code",
   "execution_count": 6,
   "metadata": {},
   "outputs": [],
   "source": [
    "sliding_window_data = []  # Hold all windowed sums\n",
    "for ind, item in enumerate(data):  # Loop through data\n",
    "    if ind <= len(data)-3:  # Stop at the 2nd to last index\n",
    "        sliding_window_data.append(sum(data[ind:ind+3]))  # add sum of current index to index + 3 to list"
   ]
  },
  {
   "cell_type": "code",
   "execution_count": 7,
   "metadata": {},
   "outputs": [
    {
     "data": {
      "text/plain": [
       "1418"
      ]
     },
     "execution_count": 7,
     "metadata": {},
     "output_type": "execute_result"
    }
   ],
   "source": [
    "calc_increased(sliding_window_data)  # Run the calc_increased function same as part 1"
   ]
  },
  {
   "cell_type": "markdown",
   "metadata": {},
   "source": [
    "## Day 2"
   ]
  },
  {
   "cell_type": "markdown",
   "metadata": {},
   "source": [
    "### Part 1"
   ]
  },
  {
   "cell_type": "markdown",
   "metadata": {},
   "source": [
    "Your horizontal position and depth both start at 0. The steps above would then modify them as follows:\n",
    "\n",
    "    forward 5 adds 5 to your horizontal position, a total of 5.\n",
    "    down 5 adds 5 to your depth, resulting in a value of 5.\n",
    "    forward 8 adds 8 to your horizontal position, a total of 13.\n",
    "    up 3 decreases your depth by 3, resulting in a value of 2.\n",
    "    down 8 adds 8 to your depth, resulting in a value of 10.\n",
    "    forward 2 adds 2 to your horizontal position, a total of 15.\n",
    "    \n",
    "After following these instructions, you would have a horizontal position of 15 and a depth of 10. (Multiplying these together produces 150.)\n",
    "\n",
    "Calculate the horizontal position and depth you would have after following the planned course. What do you get if you multiply your final horizontal position by your final depth?"
   ]
  },
  {
   "cell_type": "code",
   "execution_count": 4,
   "metadata": {},
   "outputs": [],
   "source": [
    "data2 = [] # Store measurements\n",
    "with open('day_2_data.txt') as f:\n",
    "    for i in f.readlines():\n",
    "        data2.append(i.split(\"\\n\")[0])\n"
   ]
  },
  {
   "cell_type": "code",
   "execution_count": 8,
   "metadata": {},
   "outputs": [],
   "source": [
    "class submarine:\n",
    "    def __init__(self, horizontal_start = 0, vertical_start = 0):\n",
    "        self.horizontal_position = horizontal_start\n",
    "        self.vertical_position = vertical_start\n",
    "        \n",
    "    def move_sub(self, instructions):\n",
    "        split_instructions = instructions.split(\" \")\n",
    "        \n",
    "        direction = split_instructions[0]\n",
    "        amount = int(split_instructions[1])\n",
    "        \n",
    "        if direction == 'forward':\n",
    "            self.horizontal_position+=amount\n",
    "        elif direction == 'backward': # Doesn't seem to be in this data\n",
    "            self.horizontal_position-=amount\n",
    "        elif direction == 'down':\n",
    "            self.vertical_position+=amount\n",
    "        elif direction == 'up':\n",
    "            self.vertical_position-=amount\n",
    "        \n",
    "    def multiply_horizontal_vertical(self):\n",
    "        return self.horizontal_position*self.vertical_position\n",
    "        "
   ]
  },
  {
   "cell_type": "code",
   "execution_count": 10,
   "metadata": {},
   "outputs": [
    {
     "name": "stdout",
     "output_type": "stream",
     "text": [
      "1940\n",
      "861\n",
      "1670340\n"
     ]
    }
   ],
   "source": [
    "my_sub = submarine()\n",
    "for instructions in data2:\n",
    "    my_sub.move_sub(instructions)\n",
    "    \n",
    "print(my_sub.horizontal_position)\n",
    "print(my_sub.vertical_position)\n",
    "print(my_sub.multiply_horizontal_vertical())\n"
   ]
  },
  {
   "cell_type": "markdown",
   "metadata": {},
   "source": [
    "### Part 2"
   ]
  },
  {
   "cell_type": "markdown",
   "metadata": {},
   "source": [
    "In addition to horizontal position and depth, you'll also need to track a third value, aim, which also starts at 0. The commands also mean something entirely different than you first thought:\n",
    "\n",
    "down X increases your aim by X units.\n",
    "up X decreases your aim by X units.\n",
    "forward X does two things:\n",
    "It increases your horizontal position by X units.\n",
    "It increases your depth by your aim multiplied by X.\n",
    "Again note that since you're on a submarine, down and up do the opposite of what you might expect: \"down\" means aiming in the positive direction.\n",
    "\n",
    "Now, the above example does something different:\n",
    "\n",
    "    forward 5 adds 5 to your horizontal position, a total of 5. Because your aim is 0, your depth does not change.\n",
    "    down 5 adds 5 to your aim, resulting in a value of 5.\n",
    "    forward 8 adds 8 to your horizontal position, a total of 13. Because your aim is 5, your depth increases by 8*5=40.\n",
    "    up 3 decreases your aim by 3, resulting in a value of 2.\n",
    "    down 8 adds 8 to your aim, resulting in a value of 10.\n",
    "    forward 2 adds 2 to your horizontal position, a total of 15. Because your aim is 10, your depth increases by 2*10=20 to a total of 60.\n",
    "    After following these new instructions, you would have a horizontal position of 15 and a depth of 60. (Multiplying these produces 900.)\n",
    "\n",
    "Using this new interpretation of the commands, calculate the horizontal position and depth you would have after following the planned course. What do you get if you multiply your final horizontal position by your final depth?"
   ]
  },
  {
   "cell_type": "code",
   "execution_count": 12,
   "metadata": {},
   "outputs": [
    {
     "name": "stdout",
     "output_type": "stream",
     "text": [
      "1940\n",
      "1007368\n",
      "1954293920\n"
     ]
    }
   ],
   "source": [
    "# Updated submarine\n",
    "class new_improved_submarine:\n",
    "    def __init__(self, horizontal_start = 0, vertical_start = 0, aim = 0):\n",
    "        self.horizontal_position = horizontal_start\n",
    "        self.vertical_position = vertical_start\n",
    "        self.aim = aim\n",
    "        \n",
    "    def move_sub(self, instructions):\n",
    "        split_instructions = instructions.split(\" \")\n",
    "        \n",
    "        direction = split_instructions[0]\n",
    "        amount = int(split_instructions[1])\n",
    "        \n",
    "        if direction == 'forward':\n",
    "            self.horizontal_position+=amount\n",
    "            self.vertical_position+=amount*self.aim\n",
    "        elif direction == 'backward': # Doesn't seem to be in this data\n",
    "            self.horizontal_position-=amount\n",
    "        elif direction == 'down':\n",
    "            self.aim+=amount\n",
    "        elif direction == 'up':\n",
    "            self.aim-=amount\n",
    "        \n",
    "    def multiply_horizontal_vertical(self):\n",
    "        return self.horizontal_position*self.vertical_position\n",
    "\n",
    "    \n",
    "my_sub_improved = new_improved_submarine()\n",
    "for instructions in data2:\n",
    "    my_sub_improved.move_sub(instructions)\n",
    "    \n",
    "print(my_sub_improved.horizontal_position)\n",
    "print(my_sub_improved.vertical_position)\n",
    "print(my_sub_improved.multiply_horizontal_vertical())"
   ]
  },
  {
   "cell_type": "markdown",
   "metadata": {},
   "source": [
    "## Day 3"
   ]
  },
  {
   "cell_type": "markdown",
   "metadata": {},
   "source": [
    "### Part 1"
   ]
  },
  {
   "cell_type": "markdown",
   "metadata": {},
   "source": [
    "You need to use the binary numbers in the diagnostic report to generate two new binary numbers (called the gamma rate and the epsilon rate). The power consumption can then be found by multiplying the gamma rate by the epsilon rate.\n",
    "\n",
    "Each bit in the gamma rate can be determined by finding the most common bit in the corresponding position of all numbers in the diagnostic report. For example, given the following diagnostic report:\n",
    "\n",
    "00100\n",
    "11110\n",
    "10110\n",
    "10111\n",
    "10101\n",
    "01111\n",
    "00111\n",
    "11100\n",
    "10000\n",
    "11001\n",
    "00010\n",
    "01010\n",
    "Considering only the first bit of each number, there are five 0 bits and seven 1 bits. Since the most common bit is 1, the first bit of the gamma rate is 1.\n",
    "\n",
    "The most common second bit of the numbers in the diagnostic report is 0, so the second bit of the gamma rate is 0.\n",
    "\n",
    "The most common value of the third, fourth, and fifth bits are 1, 1, and 0, respectively, and so the final three bits of the gamma rate are 110.\n",
    "\n",
    "So, the gamma rate is the binary number 10110, or 22 in decimal.\n",
    "\n",
    "The epsilon rate is calculated in a similar way; rather than use the most common bit, the least common bit from each position is used. So, the epsilon rate is 01001, or 9 in decimal. Multiplying the gamma rate (22) by the epsilon rate (9) produces the power consumption, 198.\n",
    "\n",
    "Use the binary numbers in your diagnostic report to calculate the gamma rate and epsilon rate, then multiply them together. What is the power consumption of the submarine? (Be sure to represent your answer in decimal, not binary.)"
   ]
  },
  {
   "cell_type": "code",
   "execution_count": 14,
   "metadata": {},
   "outputs": [],
   "source": [
    "from collections import Counter # Useful package here"
   ]
  },
  {
   "cell_type": "code",
   "execution_count": 12,
   "metadata": {},
   "outputs": [],
   "source": [
    "data3 = [] # Store measurements\n",
    "with open('day_3_data.txt') as f:\n",
    "    for i in f.readlines():\n",
    "        data3.append(i.split(\"\\n\")[0])"
   ]
  },
  {
   "cell_type": "code",
   "execution_count": 18,
   "metadata": {},
   "outputs": [],
   "source": [
    "digit_list = {} # Dictionary where key is the digit index (1,2,3,4,5 etc.) and value is list of entries over data\n",
    "for digit in range(len(data3[0])): # loop through each digit\n",
    "    digit_list[digit] = [] # instatiate list as dict entry\n",
    "    for item in data3:\n",
    "        digit_list[digit].append(item[digit]) # add item to dict"
   ]
  },
  {
   "cell_type": "code",
   "execution_count": 23,
   "metadata": {},
   "outputs": [],
   "source": [
    "gamma_rate = [] # store gamma values\n",
    "epsilon_rate = [] # store epsilon valeus\n",
    "for key in digit_list.keys(): # loop through digit keys\n",
    "    common = Counter(digit_list[key]).most_common() # get most common and least common entries\n",
    "    gamma_rate.append(common[0][0]) # most common entry\n",
    "    epsilon_rate.append(common[-1][0]) # least common entry"
   ]
  },
  {
   "cell_type": "code",
   "execution_count": 25,
   "metadata": {},
   "outputs": [
    {
     "data": {
      "text/plain": [
       "845186"
      ]
     },
     "execution_count": 25,
     "metadata": {},
     "output_type": "execute_result"
    }
   ],
   "source": [
    "gamma = \"\".join(gamma_rate)\n",
    "epsilon = \"\".join(epsilon_rate)\n",
    "\n",
    "answer = int(gamma,2) * int(epsilon,2)\n",
    "answer"
   ]
  },
  {
   "cell_type": "markdown",
   "metadata": {},
   "source": [
    "### Part 2 - This is a fun one"
   ]
  },
  {
   "cell_type": "markdown",
   "metadata": {},
   "source": [
    "Keep only numbers selected by the bit criteria for the type of rating value for which you are searching. Discard numbers which do not match the bit criteria.\n",
    "If you only have one number left, stop; this is the rating value for which you are searching.\n",
    "Otherwise, repeat the process, considering the next bit to the right.\n",
    "The bit criteria depends on which type of rating value you want to find:\n",
    "\n",
    "To find oxygen generator rating, determine the most common value (0 or 1) in the current bit position, and keep only numbers with that bit in that position. If 0 and 1 are equally common, keep values with a 1 in the position being considered.\n",
    "To find CO2 scrubber rating, determine the least common value (0 or 1) in the current bit position, and keep only numbers with that bit in that position. If 0 and 1 are equally common, keep values with a 0 in the position being considered.\n",
    "For example, to determine the oxygen generator rating value using the same example diagnostic report from above:\n",
    "\n",
    "Start with all 12 numbers and consider only the first bit of each number. There are more 1 bits (7) than 0 bits (5), so keep only the 7 numbers with a 1 in the first position: 11110, 10110, 10111, 10101, 11100, 10000, and 11001.\n",
    "Then, consider the second bit of the 7 remaining numbers: there are more 0 bits (4) than 1 bits (3), so keep only the 4 numbers with a 0 in the second position: 10110, 10111, 10101, and 10000.\n",
    "In the third position, three of the four numbers have a 1, so keep those three: 10110, 10111, and 10101.\n",
    "In the fourth position, two of the three numbers have a 1, so keep those two: 10110 and 10111.\n",
    "In the fifth position, there are an equal number of 0 bits and 1 bits (one each). So, to find the oxygen generator rating, keep the number with a 1 in that position: 10111.\n",
    "As there is only one number left, stop; the oxygen generator rating is 10111, or 23 in decimal.\n",
    "Then, to determine the CO2 scrubber rating value from the same example above:\n",
    "\n",
    "Start again with all 12 numbers and consider only the first bit of each number. There are fewer 0 bits (5) than 1 bits (7), so keep only the 5 numbers with a 0 in the first position: 00100, 01111, 00111, 00010, and 01010.\n",
    "Then, consider the second bit of the 5 remaining numbers: there are fewer 1 bits (2) than 0 bits (3), so keep only the 2 numbers with a 1 in the second position: 01111 and 01010.\n",
    "In the third position, there are an equal number of 0 bits and 1 bits (one each). So, to find the CO2 scrubber rating, keep the number with a 0 in that position: 01010.\n",
    "As there is only one number left, stop; the CO2 scrubber rating is 01010, or 10 in decimal."
   ]
  },
  {
   "cell_type": "code",
   "execution_count": 51,
   "metadata": {},
   "outputs": [
    {
     "name": "stdout",
     "output_type": "stream",
     "text": [
      "['010110110011']\n",
      "['110001101010']\n",
      "1459\n",
      "3178\n",
      "4636702\n"
     ]
    }
   ],
   "source": [
    "# First lets turn my code from part 1 into a function - Need to add clause to account for ties\n",
    "\n",
    "def get_gamma_value(input_sequence):\n",
    "    digit_list = {} # Dictionary where key is the digit index (1,2,3,4,5 etc.) and value is list of entries over data\n",
    "    for digit in range(len(input_sequence[0])): # loop through each digit\n",
    "        digit_list[digit] = [] # instatiate list as dict entry\n",
    "        for item in input_sequence:\n",
    "            digit_list[digit].append(item[digit]) # add item to dict\n",
    "    gamma_rate = [] # store gamma values\n",
    "    epsilon_rate = [] # store epsilon valeus\n",
    "    for key in digit_list.keys(): # loop through digit keys\n",
    "        common = Counter(digit_list[key]).most_common() # get most common and least common entries\n",
    "        if common[0][1] == common[-1][1]:\n",
    "            gamma_rate.append('1')\n",
    "            epsilon_rate.append('0')\n",
    "        else:\n",
    "            gamma_rate.append(common[0][0]) # most common entry\n",
    "            epsilon_rate.append(common[-1][0]) # least common entry\n",
    "    gamma = \"\".join(gamma_rate)\n",
    "    epsilon = \"\".join(epsilon_rate)\n",
    "    return gamma, epsilon\n",
    "\n",
    "# Now lets begin since we have a function that can grab the most common values given an input sequence\n",
    "\n",
    "viable_codes_g = data3 # store viable codes for oxygen (gamma)\n",
    "viable_codes_e = data3 # store viable codes for c02 (epsilon)\n",
    "for i in range(len(viable_codes_g[0])): # loop through each index\n",
    "    if len(viable_codes_g) != 1: # stop if one value left - obviously doesn't account for edge cases\n",
    "        gamma_p2, epsilon_p2 = get_gamma_value(viable_codes_g) # calculate gamma with the remaining viable codes\n",
    "        new_viable_codes_g = [] # store new viable codes\n",
    "        for code in viable_codes_g: # loop through current viables\n",
    "            if code[i] == gamma_p2[i]: # check parameter\n",
    "                new_viable_codes_g.append(code) # if met, add to new viable codes\n",
    "    if len(viable_codes_e) != 1: # repeat process for epsilon\n",
    "        gamma_p2, epsilon_p2 = get_gamma_value(viable_codes_e)\n",
    "        new_viable_codes_e = []\n",
    "        for code in viable_codes_e:\n",
    "            if code[i] == epsilon_p2[i]:\n",
    "                new_viable_codes_e.append(code)\n",
    "    viable_codes_g = new_viable_codes_g # overwrite viable codes and repeat\n",
    "    viable_codes_e = new_viable_codes_e\n",
    "\n",
    "print(viable_codes_g)\n",
    "print(viable_codes_e)\n",
    "print(int(viable_codes_g[0],2))\n",
    "print(int(viable_codes_e[0],2))\n",
    "\n",
    "print(int(viable_codes_g[0],2)*int(viable_codes_e[0],2))"
   ]
  },
  {
   "cell_type": "code",
   "execution_count": null,
   "metadata": {},
   "outputs": [],
   "source": []
  }
 ],
 "metadata": {
  "kernelspec": {
   "display_name": "Python 3",
   "language": "python",
   "name": "python3"
  },
  "language_info": {
   "codemirror_mode": {
    "name": "ipython",
    "version": 3
   },
   "file_extension": ".py",
   "mimetype": "text/x-python",
   "name": "python",
   "nbconvert_exporter": "python",
   "pygments_lexer": "ipython3",
   "version": "3.7.3"
  }
 },
 "nbformat": 4,
 "nbformat_minor": 2
}
