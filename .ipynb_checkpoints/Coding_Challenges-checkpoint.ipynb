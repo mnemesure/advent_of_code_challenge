{
 "cells": [
  {
   "cell_type": "markdown",
   "metadata": {},
   "source": [
    "# Advent of Code Challenges\n",
    "Code by Matthew Nemesure "
   ]
  },
  {
   "cell_type": "markdown",
   "metadata": {},
   "source": [
    "## Day 1"
   ]
  },
  {
   "cell_type": "markdown",
   "metadata": {},
   "source": [
    "### Part 1\n",
    "\n",
    "To do this, count the number of times a depth measurement increases from the previous measurement. (There is no measurement before the first measurement.)"
   ]
  },
  {
   "cell_type": "code",
   "execution_count": 4,
   "metadata": {},
   "outputs": [],
   "source": [
    "data = [] # Store measurements\n",
    "with open('day_1_data.txt') as f:\n",
    "    for i in f.readlines():\n",
    "        data.append(int(i.split(\"\\n\")[0]))"
   ]
  },
  {
   "cell_type": "code",
   "execution_count": 5,
   "metadata": {},
   "outputs": [
    {
     "data": {
      "text/plain": [
       "1374"
      ]
     },
     "execution_count": 5,
     "metadata": {},
     "output_type": "execute_result"
    }
   ],
   "source": [
    "def calc_increased(data):\n",
    "    increased = 0  # Store number of increases\n",
    "    for ind, item in enumerate(data):\n",
    "        if ind == 0:  # Skip first index\n",
    "            continue  \n",
    "        if item > data[ind-1]:  # Check if increased from previous data point\n",
    "            increased +=1  # Count it\n",
    "    return increased\n",
    "\n",
    "calc_increased(data)"
   ]
  },
  {
   "cell_type": "markdown",
   "metadata": {},
   "source": [
    "### Part 2\n",
    "\n",
    "Your goal now is to count the number of times the sum of measurements in this sliding window increases from the previous sum. So, compare A with B, then compare B with C, then C with D, and so on. Stop when there aren't enough measurements left to create a new three-measurement sum."
   ]
  },
  {
   "cell_type": "code",
   "execution_count": 6,
   "metadata": {},
   "outputs": [],
   "source": [
    "sliding_window_data = []  # Hold all windowed sums\n",
    "for ind, item in enumerate(data):  # Loop through data\n",
    "    if ind <= len(data)-3:  # Stop at the 2nd to last index\n",
    "        sliding_window_data.append(sum(data[ind:ind+3]))  # add sum of current index to index + 3 to list"
   ]
  },
  {
   "cell_type": "code",
   "execution_count": 7,
   "metadata": {},
   "outputs": [
    {
     "data": {
      "text/plain": [
       "1418"
      ]
     },
     "execution_count": 7,
     "metadata": {},
     "output_type": "execute_result"
    }
   ],
   "source": [
    "calc_increased(sliding_window_data)  # Run the calc_increased function same as part 1"
   ]
  },
  {
   "cell_type": "markdown",
   "metadata": {},
   "source": [
    "## Day 2"
   ]
  },
  {
   "cell_type": "markdown",
   "metadata": {},
   "source": [
    "### Part 1"
   ]
  },
  {
   "cell_type": "markdown",
   "metadata": {},
   "source": [
    "Your horizontal position and depth both start at 0. The steps above would then modify them as follows:\n",
    "\n",
    "    forward 5 adds 5 to your horizontal position, a total of 5.\n",
    "    down 5 adds 5 to your depth, resulting in a value of 5.\n",
    "    forward 8 adds 8 to your horizontal position, a total of 13.\n",
    "    up 3 decreases your depth by 3, resulting in a value of 2.\n",
    "    down 8 adds 8 to your depth, resulting in a value of 10.\n",
    "    forward 2 adds 2 to your horizontal position, a total of 15.\n",
    "    \n",
    "After following these instructions, you would have a horizontal position of 15 and a depth of 10. (Multiplying these together produces 150.)\n",
    "\n",
    "Calculate the horizontal position and depth you would have after following the planned course. What do you get if you multiply your final horizontal position by your final depth?"
   ]
  },
  {
   "cell_type": "code",
   "execution_count": 4,
   "metadata": {},
   "outputs": [],
   "source": [
    "data2 = [] # Store measurements\n",
    "with open('day_2_data.txt') as f:\n",
    "    for i in f.readlines():\n",
    "        data2.append(i.split(\"\\n\")[0])\n"
   ]
  },
  {
   "cell_type": "code",
   "execution_count": 8,
   "metadata": {},
   "outputs": [],
   "source": [
    "class submarine:\n",
    "    def __init__(self, horizontal_start = 0, vertical_start = 0):\n",
    "        self.horizontal_position = horizontal_start\n",
    "        self.vertical_position = vertical_start\n",
    "        \n",
    "    def move_sub(self, instructions):\n",
    "        split_instructions = instructions.split(\" \")\n",
    "        \n",
    "        direction = split_instructions[0]\n",
    "        amount = int(split_instructions[1])\n",
    "        \n",
    "        if direction == 'forward':\n",
    "            self.horizontal_position+=amount\n",
    "        elif direction == 'backward': # Doesn't seem to be in this data\n",
    "            self.horizontal_position-=amount\n",
    "        elif direction == 'down':\n",
    "            self.vertical_position+=amount\n",
    "        elif direction == 'up':\n",
    "            self.vertical_position-=amount\n",
    "        \n",
    "    def multiply_horizontal_vertical(self):\n",
    "        return self.horizontal_position*self.vertical_position\n",
    "        "
   ]
  },
  {
   "cell_type": "code",
   "execution_count": 10,
   "metadata": {},
   "outputs": [
    {
     "name": "stdout",
     "output_type": "stream",
     "text": [
      "1940\n",
      "861\n",
      "1670340\n"
     ]
    }
   ],
   "source": [
    "my_sub = submarine()\n",
    "for instructions in data2:\n",
    "    my_sub.move_sub(instructions)\n",
    "    \n",
    "print(my_sub.horizontal_position)\n",
    "print(my_sub.vertical_position)\n",
    "print(my_sub.multiply_horizontal_vertical())\n"
   ]
  },
  {
   "cell_type": "markdown",
   "metadata": {},
   "source": [
    "### Part 2"
   ]
  },
  {
   "cell_type": "markdown",
   "metadata": {},
   "source": [
    "In addition to horizontal position and depth, you'll also need to track a third value, aim, which also starts at 0. The commands also mean something entirely different than you first thought:\n",
    "\n",
    "down X increases your aim by X units.\n",
    "up X decreases your aim by X units.\n",
    "forward X does two things:\n",
    "It increases your horizontal position by X units.\n",
    "It increases your depth by your aim multiplied by X.\n",
    "Again note that since you're on a submarine, down and up do the opposite of what you might expect: \"down\" means aiming in the positive direction.\n",
    "\n",
    "Now, the above example does something different:\n",
    "\n",
    "    forward 5 adds 5 to your horizontal position, a total of 5. Because your aim is 0, your depth does not change.\n",
    "    down 5 adds 5 to your aim, resulting in a value of 5.\n",
    "    forward 8 adds 8 to your horizontal position, a total of 13. Because your aim is 5, your depth increases by 8*5=40.\n",
    "    up 3 decreases your aim by 3, resulting in a value of 2.\n",
    "    down 8 adds 8 to your aim, resulting in a value of 10.\n",
    "    forward 2 adds 2 to your horizontal position, a total of 15. Because your aim is 10, your depth increases by 2*10=20 to a total of 60.\n",
    "    After following these new instructions, you would have a horizontal position of 15 and a depth of 60. (Multiplying these produces 900.)\n",
    "\n",
    "Using this new interpretation of the commands, calculate the horizontal position and depth you would have after following the planned course. What do you get if you multiply your final horizontal position by your final depth?"
   ]
  },
  {
   "cell_type": "code",
   "execution_count": 12,
   "metadata": {},
   "outputs": [
    {
     "name": "stdout",
     "output_type": "stream",
     "text": [
      "1940\n",
      "1007368\n",
      "1954293920\n"
     ]
    }
   ],
   "source": [
    "# Updated submarine\n",
    "class new_improved_submarine:\n",
    "    def __init__(self, horizontal_start = 0, vertical_start = 0, aim = 0):\n",
    "        self.horizontal_position = horizontal_start\n",
    "        self.vertical_position = vertical_start\n",
    "        self.aim = aim\n",
    "        \n",
    "    def move_sub(self, instructions):\n",
    "        split_instructions = instructions.split(\" \")\n",
    "        \n",
    "        direction = split_instructions[0]\n",
    "        amount = int(split_instructions[1])\n",
    "        \n",
    "        if direction == 'forward':\n",
    "            self.horizontal_position+=amount\n",
    "            self.vertical_position+=amount*self.aim\n",
    "        elif direction == 'backward': # Doesn't seem to be in this data\n",
    "            self.horizontal_position-=amount\n",
    "        elif direction == 'down':\n",
    "            self.aim+=amount\n",
    "        elif direction == 'up':\n",
    "            self.aim-=amount\n",
    "        \n",
    "    def multiply_horizontal_vertical(self):\n",
    "        return self.horizontal_position*self.vertical_position\n",
    "\n",
    "    \n",
    "my_sub_improved = new_improved_submarine()\n",
    "for instructions in data2:\n",
    "    my_sub_improved.move_sub(instructions)\n",
    "    \n",
    "print(my_sub_improved.horizontal_position)\n",
    "print(my_sub_improved.vertical_position)\n",
    "print(my_sub_improved.multiply_horizontal_vertical())"
   ]
  },
  {
   "cell_type": "code",
   "execution_count": null,
   "metadata": {},
   "outputs": [],
   "source": []
  }
 ],
 "metadata": {
  "kernelspec": {
   "display_name": "Python 3",
   "language": "python",
   "name": "python3"
  },
  "language_info": {
   "codemirror_mode": {
    "name": "ipython",
    "version": 3
   },
   "file_extension": ".py",
   "mimetype": "text/x-python",
   "name": "python",
   "nbconvert_exporter": "python",
   "pygments_lexer": "ipython3",
   "version": "3.7.3"
  }
 },
 "nbformat": 4,
 "nbformat_minor": 2
}
