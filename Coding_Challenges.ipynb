{
 "cells": [
  {
   "cell_type": "markdown",
   "metadata": {},
   "source": [
    "# Advent of Code Challenges\n",
    "Code by Matthew Nemesure "
   ]
  },
  {
   "cell_type": "markdown",
   "metadata": {},
   "source": [
    "## Day 1"
   ]
  },
  {
   "cell_type": "markdown",
   "metadata": {},
   "source": [
    "### Part 1\n",
    "\n",
    "To do this, count the number of times a depth measurement increases from the previous measurement. (There is no measurement before the first measurement.)"
   ]
  },
  {
   "cell_type": "code",
   "execution_count": 1,
   "metadata": {},
   "outputs": [],
   "source": [
    "data = [] # Store measurements\n",
    "with open('day_1_data.txt') as f:\n",
    "    for i in f.readlines():\n",
    "        data.append(int(i.split(\"\\n\")[0]))"
   ]
  },
  {
   "cell_type": "code",
   "execution_count": 5,
   "metadata": {},
   "outputs": [
    {
     "data": {
      "text/plain": [
       "1374"
      ]
     },
     "execution_count": 5,
     "metadata": {},
     "output_type": "execute_result"
    }
   ],
   "source": [
    "def calc_increased(data):\n",
    "    increased = 0  # Store number of increases\n",
    "    for ind, item in enumerate(data):\n",
    "        if ind == 0:  # Skip first index\n",
    "            continue  \n",
    "        if item > data[ind-1]:  # Check if increased from previous data point\n",
    "            increased +=1  # Count it\n",
    "    return increased\n",
    "\n",
    "calc_increased(data)"
   ]
  },
  {
   "cell_type": "markdown",
   "metadata": {},
   "source": [
    "### Part 2\n",
    "\n",
    "Your goal now is to count the number of times the sum of measurements in this sliding window increases from the previous sum. So, compare A with B, then compare B with C, then C with D, and so on. Stop when there aren't enough measurements left to create a new three-measurement sum."
   ]
  },
  {
   "cell_type": "code",
   "execution_count": 6,
   "metadata": {},
   "outputs": [],
   "source": [
    "sliding_window_data = []  # Hold all windowed sums\n",
    "for ind, item in enumerate(data):  # Loop through data\n",
    "    if ind <= len(data)-3:  # Stop at the 2nd to last index\n",
    "        sliding_window_data.append(sum(data[ind:ind+3]))  # add sum of current index to index + 3 to list"
   ]
  },
  {
   "cell_type": "code",
   "execution_count": 7,
   "metadata": {},
   "outputs": [
    {
     "data": {
      "text/plain": [
       "1418"
      ]
     },
     "execution_count": 7,
     "metadata": {},
     "output_type": "execute_result"
    }
   ],
   "source": [
    "calc_increased(sliding_window_data)  # Run the calc_increased function same as part 1"
   ]
  },
  {
   "cell_type": "markdown",
   "metadata": {},
   "source": [
    "## Day 2"
   ]
  },
  {
   "cell_type": "markdown",
   "metadata": {},
   "source": [
    "### Part 1"
   ]
  },
  {
   "cell_type": "markdown",
   "metadata": {},
   "source": [
    "Your horizontal position and depth both start at 0. The steps above would then modify them as follows:\n",
    "\n",
    "    forward 5 adds 5 to your horizontal position, a total of 5.\n",
    "    down 5 adds 5 to your depth, resulting in a value of 5.\n",
    "    forward 8 adds 8 to your horizontal position, a total of 13.\n",
    "    up 3 decreases your depth by 3, resulting in a value of 2.\n",
    "    down 8 adds 8 to your depth, resulting in a value of 10.\n",
    "    forward 2 adds 2 to your horizontal position, a total of 15.\n",
    "    \n",
    "After following these instructions, you would have a horizontal position of 15 and a depth of 10. (Multiplying these together produces 150.)\n",
    "\n",
    "Calculate the horizontal position and depth you would have after following the planned course. What do you get if you multiply your final horizontal position by your final depth?"
   ]
  },
  {
   "cell_type": "code",
   "execution_count": 4,
   "metadata": {},
   "outputs": [],
   "source": [
    "data2 = [] # Store measurements\n",
    "with open('day_2_data.txt') as f:\n",
    "    for i in f.readlines():\n",
    "        data2.append(i.split(\"\\n\")[0])\n"
   ]
  },
  {
   "cell_type": "code",
   "execution_count": 8,
   "metadata": {},
   "outputs": [],
   "source": [
    "class submarine:\n",
    "    def __init__(self, horizontal_start = 0, vertical_start = 0):\n",
    "        self.horizontal_position = horizontal_start\n",
    "        self.vertical_position = vertical_start\n",
    "        \n",
    "    def move_sub(self, instructions):\n",
    "        split_instructions = instructions.split(\" \")\n",
    "        \n",
    "        direction = split_instructions[0]\n",
    "        amount = int(split_instructions[1])\n",
    "        \n",
    "        if direction == 'forward':\n",
    "            self.horizontal_position+=amount\n",
    "        elif direction == 'backward': # Doesn't seem to be in this data\n",
    "            self.horizontal_position-=amount\n",
    "        elif direction == 'down':\n",
    "            self.vertical_position+=amount\n",
    "        elif direction == 'up':\n",
    "            self.vertical_position-=amount\n",
    "        \n",
    "    def multiply_horizontal_vertical(self):\n",
    "        return self.horizontal_position*self.vertical_position\n",
    "        "
   ]
  },
  {
   "cell_type": "code",
   "execution_count": 10,
   "metadata": {},
   "outputs": [
    {
     "name": "stdout",
     "output_type": "stream",
     "text": [
      "1940\n",
      "861\n",
      "1670340\n"
     ]
    }
   ],
   "source": [
    "my_sub = submarine()\n",
    "for instructions in data2:\n",
    "    my_sub.move_sub(instructions)\n",
    "    \n",
    "print(my_sub.horizontal_position)\n",
    "print(my_sub.vertical_position)\n",
    "print(my_sub.multiply_horizontal_vertical())\n"
   ]
  },
  {
   "cell_type": "markdown",
   "metadata": {},
   "source": [
    "### Part 2"
   ]
  },
  {
   "cell_type": "markdown",
   "metadata": {},
   "source": [
    "In addition to horizontal position and depth, you'll also need to track a third value, aim, which also starts at 0. The commands also mean something entirely different than you first thought:\n",
    "\n",
    "down X increases your aim by X units.\n",
    "up X decreases your aim by X units.\n",
    "forward X does two things:\n",
    "It increases your horizontal position by X units.\n",
    "It increases your depth by your aim multiplied by X.\n",
    "Again note that since you're on a submarine, down and up do the opposite of what you might expect: \"down\" means aiming in the positive direction.\n",
    "\n",
    "Now, the above example does something different:\n",
    "\n",
    "    forward 5 adds 5 to your horizontal position, a total of 5. Because your aim is 0, your depth does not change.\n",
    "    down 5 adds 5 to your aim, resulting in a value of 5.\n",
    "    forward 8 adds 8 to your horizontal position, a total of 13. Because your aim is 5, your depth increases by 8*5=40.\n",
    "    up 3 decreases your aim by 3, resulting in a value of 2.\n",
    "    down 8 adds 8 to your aim, resulting in a value of 10.\n",
    "    forward 2 adds 2 to your horizontal position, a total of 15. Because your aim is 10, your depth increases by 2*10=20 to a total of 60.\n",
    "    After following these new instructions, you would have a horizontal position of 15 and a depth of 60. (Multiplying these produces 900.)\n",
    "\n",
    "Using this new interpretation of the commands, calculate the horizontal position and depth you would have after following the planned course. What do you get if you multiply your final horizontal position by your final depth?"
   ]
  },
  {
   "cell_type": "code",
   "execution_count": 12,
   "metadata": {},
   "outputs": [
    {
     "name": "stdout",
     "output_type": "stream",
     "text": [
      "1940\n",
      "1007368\n",
      "1954293920\n"
     ]
    }
   ],
   "source": [
    "# Updated submarine\n",
    "class new_improved_submarine:\n",
    "    def __init__(self, horizontal_start = 0, vertical_start = 0, aim = 0):\n",
    "        self.horizontal_position = horizontal_start\n",
    "        self.vertical_position = vertical_start\n",
    "        self.aim = aim\n",
    "        \n",
    "    def move_sub(self, instructions):\n",
    "        split_instructions = instructions.split(\" \")\n",
    "        \n",
    "        direction = split_instructions[0]\n",
    "        amount = int(split_instructions[1])\n",
    "        \n",
    "        if direction == 'forward':\n",
    "            self.horizontal_position+=amount\n",
    "            self.vertical_position+=amount*self.aim\n",
    "        elif direction == 'backward': # Doesn't seem to be in this data\n",
    "            self.horizontal_position-=amount\n",
    "        elif direction == 'down':\n",
    "            self.aim+=amount\n",
    "        elif direction == 'up':\n",
    "            self.aim-=amount\n",
    "        \n",
    "    def multiply_horizontal_vertical(self):\n",
    "        return self.horizontal_position*self.vertical_position\n",
    "\n",
    "    \n",
    "my_sub_improved = new_improved_submarine()\n",
    "for instructions in data2:\n",
    "    my_sub_improved.move_sub(instructions)\n",
    "    \n",
    "print(my_sub_improved.horizontal_position)\n",
    "print(my_sub_improved.vertical_position)\n",
    "print(my_sub_improved.multiply_horizontal_vertical())"
   ]
  },
  {
   "cell_type": "markdown",
   "metadata": {},
   "source": [
    "## Day 3"
   ]
  },
  {
   "cell_type": "markdown",
   "metadata": {},
   "source": [
    "### Part 1"
   ]
  },
  {
   "cell_type": "markdown",
   "metadata": {},
   "source": [
    "You need to use the binary numbers in the diagnostic report to generate two new binary numbers (called the gamma rate and the epsilon rate). The power consumption can then be found by multiplying the gamma rate by the epsilon rate.\n",
    "\n",
    "Each bit in the gamma rate can be determined by finding the most common bit in the corresponding position of all numbers in the diagnostic report. For example, given the following diagnostic report:\n",
    "\n",
    "00100\n",
    "11110\n",
    "10110\n",
    "10111\n",
    "10101\n",
    "01111\n",
    "00111\n",
    "11100\n",
    "10000\n",
    "11001\n",
    "00010\n",
    "01010\n",
    "Considering only the first bit of each number, there are five 0 bits and seven 1 bits. Since the most common bit is 1, the first bit of the gamma rate is 1.\n",
    "\n",
    "The most common second bit of the numbers in the diagnostic report is 0, so the second bit of the gamma rate is 0.\n",
    "\n",
    "The most common value of the third, fourth, and fifth bits are 1, 1, and 0, respectively, and so the final three bits of the gamma rate are 110.\n",
    "\n",
    "So, the gamma rate is the binary number 10110, or 22 in decimal.\n",
    "\n",
    "The epsilon rate is calculated in a similar way; rather than use the most common bit, the least common bit from each position is used. So, the epsilon rate is 01001, or 9 in decimal. Multiplying the gamma rate (22) by the epsilon rate (9) produces the power consumption, 198.\n",
    "\n",
    "Use the binary numbers in your diagnostic report to calculate the gamma rate and epsilon rate, then multiply them together. What is the power consumption of the submarine? (Be sure to represent your answer in decimal, not binary.)"
   ]
  },
  {
   "cell_type": "code",
   "execution_count": 14,
   "metadata": {},
   "outputs": [],
   "source": [
    "from collections import Counter # Useful package here"
   ]
  },
  {
   "cell_type": "code",
   "execution_count": 12,
   "metadata": {},
   "outputs": [],
   "source": [
    "data3 = [] # Store measurements\n",
    "with open('day_3_data.txt') as f:\n",
    "    for i in f.readlines():\n",
    "        data3.append(i.split(\"\\n\")[0])"
   ]
  },
  {
   "cell_type": "code",
   "execution_count": 18,
   "metadata": {},
   "outputs": [],
   "source": [
    "digit_list = {} # Dictionary where key is the digit index (1,2,3,4,5 etc.) and value is list of entries over data\n",
    "for digit in range(len(data3[0])): # loop through each digit\n",
    "    digit_list[digit] = [] # instatiate list as dict entry\n",
    "    for item in data3:\n",
    "        digit_list[digit].append(item[digit]) # add item to dict"
   ]
  },
  {
   "cell_type": "code",
   "execution_count": 23,
   "metadata": {},
   "outputs": [],
   "source": [
    "gamma_rate = [] # store gamma values\n",
    "epsilon_rate = [] # store epsilon valeus\n",
    "for key in digit_list.keys(): # loop through digit keys\n",
    "    common = Counter(digit_list[key]).most_common() # get most common and least common entries\n",
    "    gamma_rate.append(common[0][0]) # most common entry\n",
    "    epsilon_rate.append(common[-1][0]) # least common entry"
   ]
  },
  {
   "cell_type": "code",
   "execution_count": 25,
   "metadata": {},
   "outputs": [
    {
     "data": {
      "text/plain": [
       "845186"
      ]
     },
     "execution_count": 25,
     "metadata": {},
     "output_type": "execute_result"
    }
   ],
   "source": [
    "gamma = \"\".join(gamma_rate)\n",
    "epsilon = \"\".join(epsilon_rate)\n",
    "\n",
    "answer = int(gamma,2) * int(epsilon,2)\n",
    "answer"
   ]
  },
  {
   "cell_type": "markdown",
   "metadata": {},
   "source": [
    "### Part 2 - This is a fun one"
   ]
  },
  {
   "cell_type": "markdown",
   "metadata": {},
   "source": [
    "Keep only numbers selected by the bit criteria for the type of rating value for which you are searching. Discard numbers which do not match the bit criteria.\n",
    "If you only have one number left, stop; this is the rating value for which you are searching.\n",
    "Otherwise, repeat the process, considering the next bit to the right.\n",
    "The bit criteria depends on which type of rating value you want to find:\n",
    "\n",
    "To find oxygen generator rating, determine the most common value (0 or 1) in the current bit position, and keep only numbers with that bit in that position. If 0 and 1 are equally common, keep values with a 1 in the position being considered.\n",
    "To find CO2 scrubber rating, determine the least common value (0 or 1) in the current bit position, and keep only numbers with that bit in that position. If 0 and 1 are equally common, keep values with a 0 in the position being considered.\n",
    "For example, to determine the oxygen generator rating value using the same example diagnostic report from above:\n",
    "\n",
    "Start with all 12 numbers and consider only the first bit of each number. There are more 1 bits (7) than 0 bits (5), so keep only the 7 numbers with a 1 in the first position: 11110, 10110, 10111, 10101, 11100, 10000, and 11001.\n",
    "Then, consider the second bit of the 7 remaining numbers: there are more 0 bits (4) than 1 bits (3), so keep only the 4 numbers with a 0 in the second position: 10110, 10111, 10101, and 10000.\n",
    "In the third position, three of the four numbers have a 1, so keep those three: 10110, 10111, and 10101.\n",
    "In the fourth position, two of the three numbers have a 1, so keep those two: 10110 and 10111.\n",
    "In the fifth position, there are an equal number of 0 bits and 1 bits (one each). So, to find the oxygen generator rating, keep the number with a 1 in that position: 10111.\n",
    "As there is only one number left, stop; the oxygen generator rating is 10111, or 23 in decimal.\n",
    "Then, to determine the CO2 scrubber rating value from the same example above:\n",
    "\n",
    "Start again with all 12 numbers and consider only the first bit of each number. There are fewer 0 bits (5) than 1 bits (7), so keep only the 5 numbers with a 0 in the first position: 00100, 01111, 00111, 00010, and 01010.\n",
    "Then, consider the second bit of the 5 remaining numbers: there are fewer 1 bits (2) than 0 bits (3), so keep only the 2 numbers with a 1 in the second position: 01111 and 01010.\n",
    "In the third position, there are an equal number of 0 bits and 1 bits (one each). So, to find the CO2 scrubber rating, keep the number with a 0 in that position: 01010.\n",
    "As there is only one number left, stop; the CO2 scrubber rating is 01010, or 10 in decimal."
   ]
  },
  {
   "cell_type": "code",
   "execution_count": 51,
   "metadata": {},
   "outputs": [
    {
     "name": "stdout",
     "output_type": "stream",
     "text": [
      "['010110110011']\n",
      "['110001101010']\n",
      "1459\n",
      "3178\n",
      "4636702\n"
     ]
    }
   ],
   "source": [
    "# First lets turn my code from part 1 into a function - Need to add clause to account for ties\n",
    "\n",
    "def get_gamma_value(input_sequence):\n",
    "    digit_list = {} # Dictionary where key is the digit index (1,2,3,4,5 etc.) and value is list of entries over data\n",
    "    for digit in range(len(input_sequence[0])): # loop through each digit\n",
    "        digit_list[digit] = [] # instatiate list as dict entry\n",
    "        for item in input_sequence:\n",
    "            digit_list[digit].append(item[digit]) # add item to dict\n",
    "    gamma_rate = [] # store gamma values\n",
    "    epsilon_rate = [] # store epsilon valeus\n",
    "    for key in digit_list.keys(): # loop through digit keys\n",
    "        common = Counter(digit_list[key]).most_common() # get most common and least common entries\n",
    "        if common[0][1] == common[-1][1]:\n",
    "            gamma_rate.append('1')\n",
    "            epsilon_rate.append('0')\n",
    "        else:\n",
    "            gamma_rate.append(common[0][0]) # most common entry\n",
    "            epsilon_rate.append(common[-1][0]) # least common entry\n",
    "    gamma = \"\".join(gamma_rate)\n",
    "    epsilon = \"\".join(epsilon_rate)\n",
    "    return gamma, epsilon\n",
    "\n",
    "# Now lets begin since we have a function that can grab the most common values given an input sequence\n",
    "\n",
    "viable_codes_g = data3 # store viable codes for oxygen (gamma)\n",
    "viable_codes_e = data3 # store viable codes for c02 (epsilon)\n",
    "for i in range(len(viable_codes_g[0])): # loop through each index\n",
    "    if len(viable_codes_g) != 1: # stop if one value left - obviously doesn't account for edge cases\n",
    "        gamma_p2, epsilon_p2 = get_gamma_value(viable_codes_g) # calculate gamma with the remaining viable codes\n",
    "        new_viable_codes_g = [] # store new viable codes\n",
    "        for code in viable_codes_g: # loop through current viables\n",
    "            if code[i] == gamma_p2[i]: # check parameter\n",
    "                new_viable_codes_g.append(code) # if met, add to new viable codes\n",
    "    if len(viable_codes_e) != 1: # repeat process for epsilon\n",
    "        gamma_p2, epsilon_p2 = get_gamma_value(viable_codes_e)\n",
    "        new_viable_codes_e = []\n",
    "        for code in viable_codes_e:\n",
    "            if code[i] == epsilon_p2[i]:\n",
    "                new_viable_codes_e.append(code)\n",
    "    viable_codes_g = new_viable_codes_g # overwrite viable codes and repeat\n",
    "    viable_codes_e = new_viable_codes_e\n",
    "\n",
    "print(viable_codes_g)\n",
    "print(viable_codes_e)\n",
    "print(int(viable_codes_g[0],2))\n",
    "print(int(viable_codes_e[0],2))\n",
    "\n",
    "print(int(viable_codes_g[0],2)*int(viable_codes_e[0],2))"
   ]
  },
  {
   "cell_type": "markdown",
   "metadata": {},
   "source": [
    "## Day 3"
   ]
  },
  {
   "cell_type": "markdown",
   "metadata": {},
   "source": [
    "### Part 1 - Getting more difficult here"
   ]
  },
  {
   "cell_type": "markdown",
   "metadata": {},
   "source": [
    "After the first five numbers are drawn (7, 4, 9, 5, and 11), there are no winners, but the boards are marked as follows (shown here adjacent to each other to save space):\n",
    "\n",
    "After the next six numbers are drawn (17, 23, 2, 0, 14, and 21), there are still no winners:\n",
    "\n",
    "Finally, 24 is drawn:\n",
    "\n",
    "At this point, the third board wins because it has at least one complete row or column of marked numbers (in this case, the entire top row is marked: 14 21 17 24 4).\n",
    "\n",
    "The score of the winning board can now be calculated. Start by finding the sum of all unmarked numbers on that board; in this case, the sum is 188. Then, multiply that sum by the number that was just called when the board won, 24, to get the final score, 188 * 24 = 4512."
   ]
  },
  {
   "cell_type": "code",
   "execution_count": 76,
   "metadata": {},
   "outputs": [
    {
     "name": "stdout",
     "output_type": "stream",
     "text": [
      "[17, 2, 33, 86, 38, 41, 4, 34, 91, 61, 11, 81, 3, 59, 29, 71, 26, 44, 54, 89, 46, 9, 85, 62, 23, 76, 45, 24, 78, 14, 58, 48, 57, 40, 21, 49, 7, 99, 8, 56, 50, 19, 53, 55, 10, 94, 75, 68, 6, 83, 84, 88, 52, 80, 73, 74, 79, 36, 70, 28, 37, 0, 42, 98, 96, 92, 27, 90, 47, 20, 5, 77, 69, 93, 31, 30, 95, 25, 63, 65, 51, 72, 60, 16, 12, 64, 18, 13, 1, 35, 15, 66, 67, 43, 22, 87, 97, 32, 39, 82]\n"
     ]
    },
    {
     "data": {
      "text/html": [
       "<div>\n",
       "<style scoped>\n",
       "    .dataframe tbody tr th:only-of-type {\n",
       "        vertical-align: middle;\n",
       "    }\n",
       "\n",
       "    .dataframe tbody tr th {\n",
       "        vertical-align: top;\n",
       "    }\n",
       "\n",
       "    .dataframe thead th {\n",
       "        text-align: right;\n",
       "    }\n",
       "</style>\n",
       "<table border=\"1\" class=\"dataframe\">\n",
       "  <thead>\n",
       "    <tr style=\"text-align: right;\">\n",
       "      <th></th>\n",
       "      <th>0</th>\n",
       "    </tr>\n",
       "  </thead>\n",
       "  <tbody>\n",
       "    <tr>\n",
       "      <th>0</th>\n",
       "      <td>10 27 53 91 86</td>\n",
       "    </tr>\n",
       "    <tr>\n",
       "      <th>1</th>\n",
       "      <td>15 94 47 38 61</td>\n",
       "    </tr>\n",
       "    <tr>\n",
       "      <th>2</th>\n",
       "      <td>32 68  8 88  9</td>\n",
       "    </tr>\n",
       "    <tr>\n",
       "      <th>3</th>\n",
       "      <td>35 84  3  7 87</td>\n",
       "    </tr>\n",
       "    <tr>\n",
       "      <th>4</th>\n",
       "      <td>62 78 90 66 64</td>\n",
       "    </tr>\n",
       "    <tr>\n",
       "      <th>...</th>\n",
       "      <td>...</td>\n",
       "    </tr>\n",
       "    <tr>\n",
       "      <th>495</th>\n",
       "      <td>62 50 34 16  8</td>\n",
       "    </tr>\n",
       "    <tr>\n",
       "      <th>496</th>\n",
       "      <td>75 88 84 33 29</td>\n",
       "    </tr>\n",
       "    <tr>\n",
       "      <th>497</th>\n",
       "      <td>2 64 31 41 86</td>\n",
       "    </tr>\n",
       "    <tr>\n",
       "      <th>498</th>\n",
       "      <td>94 45 76 70  3</td>\n",
       "    </tr>\n",
       "    <tr>\n",
       "      <th>499</th>\n",
       "      <td>39 89 66  4 24</td>\n",
       "    </tr>\n",
       "  </tbody>\n",
       "</table>\n",
       "<p>500 rows × 1 columns</p>\n",
       "</div>"
      ],
      "text/plain": [
       "                  0\n",
       "0    10 27 53 91 86\n",
       "1    15 94 47 38 61\n",
       "2    32 68  8 88  9\n",
       "3    35 84  3  7 87\n",
       "4    62 78 90 66 64\n",
       "..              ...\n",
       "495  62 50 34 16  8\n",
       "496  75 88 84 33 29\n",
       "497   2 64 31 41 86\n",
       "498  94 45 76 70  3\n",
       "499  39 89 66  4 24\n",
       "\n",
       "[500 rows x 1 columns]"
      ]
     },
     "execution_count": 76,
     "metadata": {},
     "output_type": "execute_result"
    }
   ],
   "source": [
    "import pandas as pd\n",
    "import numpy as np\n",
    "bingo_commands = pd.read_csv(\"day_4_data.txt\", sep = '\\n', header = None) # get commands\n",
    "bingo_commands = [int(i) for i in bingo_commands[0][0].split(\",\")]\n",
    "print(bingo_commands)\n",
    "bingo_boards = pd.read_csv(\"day_4_data.txt\", sep = \"\\n\", skiprows=1, header=None) # Read in just bingo boards\n",
    "bingo_boards\n"
   ]
  },
  {
   "cell_type": "code",
   "execution_count": 77,
   "metadata": {},
   "outputs": [],
   "source": [
    "# Process the boards into separate matricies\n",
    "bingo_board_list = []\n",
    "for i in range(0,len(bingo_boards), 5): # loop through with window range 5\n",
    "    bingo_board = bingo_boards.iloc[i:i+5,:] # get the board in unprocessed form\n",
    "    bingo_board_dict = {} # store processed board\n",
    "    for ind, j in enumerate(bingo_board[0]): #loop through each row in board\n",
    "        bingo_board_dict[ind] = [int(num) for num in j.split(\" \") if num != \"\"] #get individual entries\n",
    "    bingo_matrix = np.matrix(pd.DataFrame(bingo_board_dict)) # create matrix\n",
    "    bingo_board_list.append(bingo_matrix) # store in board list"
   ]
  },
  {
   "cell_type": "code",
   "execution_count": 78,
   "metadata": {},
   "outputs": [
    {
     "data": {
      "text/plain": [
       "matrix([[10, 15, 32, 35, 62],\n",
       "        [27, 94, 68, 84, 78],\n",
       "        [53, 47,  8,  3, 90],\n",
       "        [91, 38, 88,  7, 66],\n",
       "        [86, 61,  9, 87, 64]])"
      ]
     },
     "execution_count": 78,
     "metadata": {},
     "output_type": "execute_result"
    }
   ],
   "source": [
    "bingo_board_list[0]"
   ]
  },
  {
   "cell_type": "code",
   "execution_count": 90,
   "metadata": {},
   "outputs": [],
   "source": [
    "# Next we need to create parallel boards to track scores\n",
    "# What functions do we need?\n",
    "# One to generate the tracker list (list of zero matricies that track the hits on each board)\n",
    "# One to update the tracking board given a number and the two boards.\n",
    "# One to check for a winner\n",
    "\n",
    "\n",
    "\n",
    "def generate_tracker_list(bingo_board_list):\n",
    "    bingo_tracker_list = []\n",
    "    for i in range(len(bingo_board_list)):\n",
    "        bingo_tracker_list.append(np.zeros((5,5)))\n",
    "    return bingo_tracker_list\n",
    "\n",
    "# Start with updating boards\n",
    "def update_board(num, bingo_board, tracking_board):\n",
    "    for ind, item in enumerate(bingo_board):\n",
    "        if num in item:\n",
    "            indexes = np.where(np.asarray(item).flatten()==num)\n",
    "            # print(indexes)\n",
    "            tracking_board[ind,indexes] = 1\n",
    "    return tracking_board\n",
    "\n",
    "# Check for winners in a list of tracking boards\n",
    "def check_winners(tracker_list):\n",
    "    winning_inds = []\n",
    "    for ind, track_board in enumerate(tracker_list):\n",
    "        rowsums = track_board.sum(axis=1)\n",
    "        colsums = track_board.sum(axis=0)\n",
    "        if 5 in np.asarray(rowsums).flatten():\n",
    "            winning_inds.append(ind)\n",
    "        if 5 in np.asarray(colsums).flatten():\n",
    "            winning_inds.append(ind)\n",
    "    return winning_inds"
   ]
  },
  {
   "cell_type": "code",
   "execution_count": 96,
   "metadata": {},
   "outputs": [
    {
     "name": "stdout",
     "output_type": "stream",
     "text": [
      "[22] 46\n"
     ]
    }
   ],
   "source": [
    "# Put it all together\n",
    "bingo_tracker_list = generate_tracker_list(bingo_board_list)\n",
    "\n",
    "for called_num in bingo_commands: # Loop bingo commands\n",
    "    for ind, board in enumerate(bingo_board_list): # Loop boards\n",
    "        new_tracking_board = update_board(called_num, board, bingo_tracker_list[ind]) # Update tracking board\n",
    "        #print(new_tracking_board)\n",
    "        bingo_tracker_list[ind] = new_tracking_board # Update tracking board in list\n",
    "    #print(bingo_tracker_list)\n",
    "    winning_board_ind = check_winners(bingo_tracker_list) # find a potential winning board\n",
    "    if winning_board_ind != []: # if there is one - get the number and break the lop\n",
    "        winning_num = called_num\n",
    "        break\n",
    "print(winning_board_ind, winning_num)"
   ]
  },
  {
   "cell_type": "code",
   "execution_count": 97,
   "metadata": {},
   "outputs": [
    {
     "name": "stdout",
     "output_type": "stream",
     "text": [
      "[[73 62 45 89 49]\n",
      " [41 99 10 17 35]\n",
      " [26 58 71 29 24]\n",
      " [87  9 28 46 74]\n",
      " [95 20 39 81 32]]\n",
      "[[0. 0. 0. 1. 0.]\n",
      " [1. 0. 0. 1. 0.]\n",
      " [1. 0. 1. 1. 0.]\n",
      " [0. 0. 0. 1. 0.]\n",
      " [0. 0. 0. 1. 0.]]\n"
     ]
    }
   ],
   "source": [
    "# now lets calculate the final score\n",
    "winning_board = bingo_board_list[winning_board_ind[0]]\n",
    "winning_config = bingo_tracker_list[winning_board_ind[0]]\n",
    "\n",
    "print(winning_board)\n",
    "print(winning_config)\n"
   ]
  },
  {
   "cell_type": "code",
   "execution_count": 105,
   "metadata": {},
   "outputs": [
    {
     "name": "stdout",
     "output_type": "stream",
     "text": [
      "Final answer: 38594\n"
     ]
    }
   ],
   "source": [
    "unmarked_sum = 0\n",
    "for row_ind, i in enumerate(winning_config):\n",
    "    for col_ind, j in enumerate(i):\n",
    "        if j == 0:\n",
    "            unmarked_sum += winning_board[row_ind,col_ind]\n",
    "print(f'Final answer: {unmarked_sum*winning_num}')"
   ]
  },
  {
   "cell_type": "markdown",
   "metadata": {},
   "source": [
    "### Part 2"
   ]
  },
  {
   "cell_type": "markdown",
   "metadata": {},
   "source": [
    "On the other hand, it might be wise to try a different strategy: let the giant squid win.\n",
    "\n",
    "You aren't sure how many bingo boards a giant squid could play at once, so rather than waste time counting its arms, the safe thing to do is to figure out which board will win last and choose that one. That way, no matter which boards it picks, it will win for sure.\n",
    "\n",
    "In the above example, the second board is the last to win, which happens after 13 is eventually called and its middle column is completely marked. If you were to keep playing until this point, the second board would have a sum of unmarked numbers equal to 148 for a final score of 148 * 13 = 1924.\n",
    "\n",
    "Figure out which board will win last. Once it wins, what would its final score be?\n",
    "\n"
   ]
  },
  {
   "cell_type": "code",
   "execution_count": 144,
   "metadata": {},
   "outputs": [
    {
     "name": "stdout",
     "output_type": "stream",
     "text": [
      "[43] 64\n"
     ]
    }
   ],
   "source": [
    "# Put it all together with some modifications \n",
    "bingo_tracker_list = generate_tracker_list(bingo_board_list)\n",
    "previous_winning_board_ind = set()\n",
    "for called_num in bingo_commands: # Loop bingo commands\n",
    "    for ind, board in enumerate(bingo_board_list): # Loop boards\n",
    "        new_tracking_board = update_board(called_num, board, bingo_tracker_list[ind]) # Update tracking board\n",
    "        bingo_tracker_list[ind] = new_tracking_board # Update tracking board in list\n",
    "    winning_board_ind = set(check_winners(bingo_tracker_list)) # all unique winning boards\n",
    "    # when all boards have won or when the numbers run out\n",
    "    if len(winning_board_ind) == len(bingo_tracker_list) or called_num == bingo_commands[-1]:\n",
    "        # Get all winners from current round that didnt win last round\n",
    "        main_list = list(set(winning_board_ind) - set(previous_winning_board_ind)) # get the most recent winner(s)\n",
    "        winning_num=called_num\n",
    "        break\n",
    "    else:\n",
    "        # if you're not done or all winners haven't been found, record the winners from the previous loop\n",
    "        previous_winning_board_ind = winning_board_ind\n",
    "print(main_list, winning_num)"
   ]
  },
  {
   "cell_type": "code",
   "execution_count": 145,
   "metadata": {},
   "outputs": [
    {
     "name": "stdout",
     "output_type": "stream",
     "text": [
      "[[86 53 67 23  4]\n",
      " [89 82 75 63 39]\n",
      " [64 24  3 99  7]\n",
      " [69 16 33 13 73]\n",
      " [76 51 21 43 87]]\n",
      "[[1. 1. 0. 1. 1.]\n",
      " [1. 0. 1. 1. 0.]\n",
      " [1. 1. 1. 1. 1.]\n",
      " [1. 1. 1. 0. 1.]\n",
      " [1. 1. 1. 0. 0.]]\n"
     ]
    }
   ],
   "source": [
    "# now lets calculate the final score\n",
    "losing_board = bingo_board_list[main_list[0]]\n",
    "losing_config = bingo_tracker_list[main_list[0]]\n",
    "\n",
    "print(losing_board)\n",
    "print(losing_config)"
   ]
  },
  {
   "cell_type": "code",
   "execution_count": 146,
   "metadata": {},
   "outputs": [
    {
     "name": "stdout",
     "output_type": "stream",
     "text": [
      "Final answer: 21184\n"
     ]
    }
   ],
   "source": [
    "unmarked_sum = 0\n",
    "for row_ind, i in enumerate(losing_config):\n",
    "    for col_ind, j in enumerate(i):\n",
    "        if j == 0:\n",
    "            unmarked_sum += losing_board[row_ind,col_ind]\n",
    "print(f'Final answer: {unmarked_sum*winning_num}')"
   ]
  },
  {
   "cell_type": "markdown",
   "metadata": {},
   "source": [
    "### Day 5"
   ]
  },
  {
   "cell_type": "markdown",
   "metadata": {},
   "source": [
    "#### Part 1"
   ]
  },
  {
   "cell_type": "markdown",
   "metadata": {},
   "source": [
    "I am just going to start summarising these. Basically given a set of vertical and horizontal lines given a set of endpoints for those lines. Determine how many points on the grid have at least 2 overlapping lines on them"
   ]
  },
  {
   "cell_type": "code",
   "execution_count": 16,
   "metadata": {},
   "outputs": [],
   "source": [
    "import numpy as np"
   ]
  },
  {
   "cell_type": "code",
   "execution_count": 17,
   "metadata": {},
   "outputs": [
    {
     "data": {
      "text/plain": [
       "['822,976 -> 822,117',\n",
       " '387,419 -> 387,468',\n",
       " '659,275 -> 318,616',\n",
       " '535,940 -> 684,940',\n",
       " '294,427 -> 294,88']"
      ]
     },
     "execution_count": 17,
     "metadata": {},
     "output_type": "execute_result"
    }
   ],
   "source": [
    "data5 = [] # Store measurements\n",
    "with open('day_5_data.txt') as f:\n",
    "    for i in f.readlines():\n",
    "        data5.append(i.split(\"\\n\")[0])\n",
    "data5[0:5]"
   ]
  },
  {
   "cell_type": "code",
   "execution_count": 18,
   "metadata": {},
   "outputs": [
    {
     "data": {
      "text/plain": [
       "[[(822, 976), (822, 117)],\n",
       " [(387, 419), (387, 468)],\n",
       " [(659, 275), (318, 616)],\n",
       " [(535, 940), (684, 940)],\n",
       " [(294, 427), (294, 88)]]"
      ]
     },
     "execution_count": 18,
     "metadata": {},
     "output_type": "execute_result"
    }
   ],
   "source": [
    "# Process the data into a better format\n",
    "all_line_pairs = []\n",
    "for item in data5:\n",
    "    split_item = item.split(\" -> \")\n",
    "    item_pairs = []\n",
    "    for sp_item in split_item:\n",
    "        item_pairs.append((int(sp_item.split(',')[0]), int(sp_item.split(',')[1])))\n",
    "    all_line_pairs.append(item_pairs)\n",
    "all_line_pairs[0:5]"
   ]
  },
  {
   "cell_type": "code",
   "execution_count": 19,
   "metadata": {},
   "outputs": [
    {
     "data": {
      "text/plain": [
       "[[(822, 976), (822, 117)],\n",
       " [(387, 419), (387, 468)],\n",
       " [(535, 940), (684, 940)],\n",
       " [(294, 427), (294, 88)],\n",
       " [(534, 387), (402, 387)]]"
      ]
     },
     "execution_count": 19,
     "metadata": {},
     "output_type": "execute_result"
    }
   ],
   "source": [
    "# Now process to grab only pairs where x1=x2 or y1=y2 - representing horizontal and vertical lines\n",
    "horizontal_vertical_line_pairs = []\n",
    "for pair in all_line_pairs:\n",
    "    if pair[0][0] == pair[1][0] or pair[0][1] == pair[1][1]:\n",
    "        horizontal_vertical_line_pairs.append(pair)\n",
    "horizontal_vertical_line_pairs[0:5]"
   ]
  },
  {
   "cell_type": "code",
   "execution_count": 57,
   "metadata": {},
   "outputs": [],
   "source": [
    "# Lets make a few useful functions\n",
    "# One to instantiate a matrix to store lines\n",
    "# One to take in a set of points and update that matrix\n",
    "\n",
    "def instantiate_matrix(line_pairs):\n",
    "    max_item_x = 0\n",
    "    max_item_y = 0\n",
    "    for i in line_pairs:\n",
    "        max_x = max(i[0][0], i[1][0])\n",
    "        max_y = max(i[0][1], i[1][1])\n",
    "        if max_x>max_item_x:\n",
    "            max_item_x = max_x\n",
    "        if max_y>max_item_y:\n",
    "            max_item_y = max_y\n",
    "            \n",
    "    tracking_matrix = np.zeros((max_item_x+1,max_item_y+1))\n",
    "    return tracking_matrix\n",
    "\n",
    "def update_matrix(line_pair, tracking_matrix):\n",
    "    x_diff = abs(line_pair[0][0]-line_pair[1][0])\n",
    "    y_diff = abs(line_pair[0][1]-line_pair[1][1])\n",
    "    # prep for a situation where theyre both unequal in the future even though it cant happen given current\n",
    "    # constraints. Make sure y diff is 0 when x diff is not 0\n",
    "    if x_diff !=0 and y_diff == 0:\n",
    "        starting_x = min(line_pair[0][0],line_pair[1][0])\n",
    "        y_value = line_pair[0][1]\n",
    "        for i in range(starting_x,starting_x+x_diff+1):\n",
    "            tracking_matrix[i,y_value] += 1\n",
    "    elif x_diff ==0 and y_diff != 0:\n",
    "        starting_y = min(line_pair[0][1],line_pair[1][1])\n",
    "        x_value = line_pair[0][0]\n",
    "        for i in range(starting_y,starting_y+y_diff+1):\n",
    "            tracking_matrix[x_value,i] += 1\n",
    "    # For part 2 to handle diagonal lines\n",
    "    elif x_diff != 0 and y_diff != 0: # Lets always build this with X moving in the positive direction\n",
    "        starting_pair = np.argmin([line_pair[0][0],line_pair[1][0]]) # starting with lower X\n",
    "        other_pair = np.argmax([line_pair[0][0],line_pair[1][0]]) # other pair\n",
    "        starting_x = line_pair[starting_pair][0] # lower X\n",
    "        starting_y = line_pair[starting_pair][1] # y can be higher or lower in this case\n",
    "        for ind, i in enumerate(range(starting_x,starting_x+x_diff+1)):\n",
    "            # if starting y is higher, as x increases, y decreases\n",
    "            if line_pair[other_pair][1] < line_pair[starting_pair][1]: \n",
    "                tracking_matrix[i,starting_y-ind] += 1\n",
    "            # if starting y is lower, as x increases, y increases\n",
    "            else:\n",
    "                tracking_matrix[i,starting_y+ind] += 1\n",
    "\n",
    "        \n",
    "    return tracking_matrix"
   ]
  },
  {
   "cell_type": "code",
   "execution_count": 58,
   "metadata": {},
   "outputs": [
    {
     "data": {
      "text/plain": [
       "5294"
      ]
     },
     "execution_count": 58,
     "metadata": {},
     "output_type": "execute_result"
    }
   ],
   "source": [
    "# put the functions together\n",
    "tracking_matrix = instantiate_matrix(horizontal_vertical_line_pairs)\n",
    "for item in horizontal_vertical_line_pairs:\n",
    "    tracking_matrix = update_matrix(item,tracking_matrix)\n",
    "occurrences_more_than_2 = tracking_matrix >= 2\n",
    "answer = occurrences_more_than_2.sum()\n",
    "answer"
   ]
  },
  {
   "cell_type": "markdown",
   "metadata": {},
   "source": [
    "### Part 2"
   ]
  },
  {
   "cell_type": "markdown",
   "metadata": {},
   "source": [
    "Of course now lines can be diagonal - I expected this to be part two. Just have to modify my update matrix function"
   ]
  },
  {
   "cell_type": "code",
   "execution_count": 59,
   "metadata": {},
   "outputs": [
    {
     "data": {
      "text/plain": [
       "21698"
      ]
     },
     "execution_count": 59,
     "metadata": {},
     "output_type": "execute_result"
    }
   ],
   "source": [
    "# put the functions together for part 2\n",
    "# Change from horizontal vertical line pairs to all line pairs\n",
    "tracking_matrix = instantiate_matrix(all_line_pairs)\n",
    "for item in all_line_pairs:\n",
    "    tracking_matrix = update_matrix(item,tracking_matrix)\n",
    "occurrences_more_than_2 = tracking_matrix >= 2\n",
    "answer = occurrences_more_than_2.sum()\n",
    "answer"
   ]
  },
  {
   "cell_type": "markdown",
   "metadata": {},
   "source": [
    "## Day 6"
   ]
  },
  {
   "cell_type": "markdown",
   "metadata": {},
   "source": [
    "### Part 1"
   ]
  },
  {
   "cell_type": "markdown",
   "metadata": {},
   "source": [
    "A lanternfish that creates a new fish resets its timer to 6, not 7 (because 0 is included as a valid timer value). The new lanternfish starts with an internal timer of 8 and does not start counting down until the next day\n",
    "\n",
    "Realizing what you're trying to do, the submarine automatically produces a list of the ages of several hundred nearby lanternfish (your puzzle input). For example, suppose you were given the following list:\n",
    "\n",
    "3,4,3,1,2\n",
    "This list means that the first fish has an internal timer of 3, the second fish has an internal timer of 4, and so on until the fifth fish, which has an internal timer of 2. Simulating these fish over several days would proceed as follows:\n",
    "\n",
    "Initial state: 3,4,3,1,2 <br>\n",
    "After  1 day:  2,3,2,0,1 <br>\n",
    "After  2 days: 1,2,1,6,0,8 <br><br> Each day, a 0 becomes a 6 and adds a new 8 to the end of the list, while each other number decreases by 1 if it was present at the start of the day.\n",
    "\n",
    "In this example, after 18 days, there are a total of 26 fish. After 80 days, there would be a total of 5934.\n",
    "\n",
    "Find a way to simulate lanternfish. How many lanternfish would there be after 80 days?"
   ]
  },
  {
   "cell_type": "code",
   "execution_count": 17,
   "metadata": {},
   "outputs": [],
   "source": [
    "data6 = [] # Store measurements\n",
    "with open('day_6_data.txt') as f:\n",
    "    data6 = [int(i) for i in f.readlines()[0].split(',')]"
   ]
  },
  {
   "cell_type": "code",
   "execution_count": 18,
   "metadata": {},
   "outputs": [
    {
     "data": {
      "text/plain": [
       "[3, 5, 3, 1, 4]"
      ]
     },
     "execution_count": 18,
     "metadata": {},
     "output_type": "execute_result"
    }
   ],
   "source": [
    "# initial state\n",
    "data6[0:5]"
   ]
  },
  {
   "cell_type": "code",
   "execution_count": 19,
   "metadata": {},
   "outputs": [],
   "source": [
    "# So i think this would be pretty easy to do with a for loop and some if statements\n",
    "# However, thinking about what might be next, I want to each lanternfish to be an object\n",
    "# That way i can have it update itself and be more flexible for future problems\n",
    "# There will also be a parent class that is essentially the sea to hold all my lanternfish\n",
    "\n",
    "# Lets start by designing a single lanternfish\n",
    "\n",
    "class Lanternfish:\n",
    "    def __init__(self, current_num):\n",
    "        # initialize with the current timer\n",
    "        self.current_num = current_num\n",
    "    def update_time(self):\n",
    "        # This function will decrease the timer by 1 until 0. \n",
    "        # At 0 it will send the timer back to 8\n",
    "        # It also returns a boolean to say whether or not a new fish should be created \n",
    "        # The creation of the new fish will be managed by the parent class\n",
    "        new_fish = False\n",
    "        if self.current_num != 0:\n",
    "            self.current_num -= 1\n",
    "            return new_fish\n",
    "        elif self.current_num == 0:\n",
    "            self.current_num = 6\n",
    "            new_fish=True\n",
    "            return new_fish\n",
    "\n",
    "class TheOcean:\n",
    "    def __init__(self, inital_fish_list, n_days = 80):\n",
    "        # Init with current list, number of days to simulate and an empty list that will hold \n",
    "        # The new fish list while updating\n",
    "        self.current_fish_list = inital_fish_list\n",
    "        self.next_fish_list = []\n",
    "        self.n_days = n_days\n",
    "        self.n_fish = []\n",
    "    \n",
    "    def proceed_n_days(self):\n",
    "        for day in range(1,self.n_days+1):\n",
    "            num_fish_to_add = 0\n",
    "            for fish in self.current_fish_list:\n",
    "                add_fish = fish.update_time()\n",
    "                if add_fish:\n",
    "                    num_fish_to_add+=1\n",
    "                self.next_fish_list.append(fish)\n",
    "            for new in range(num_fish_to_add):\n",
    "                self.next_fish_list.append(Lanternfish(8))\n",
    "            self.current_fish_list = self.next_fish_list\n",
    "            self.next_fish_list = []\n",
    "            self.n_fish.append(len(self.current_fish_list))\n",
    "            #print(day)"
   ]
  },
  {
   "cell_type": "code",
   "execution_count": 20,
   "metadata": {},
   "outputs": [
    {
     "name": "stdout",
     "output_type": "stream",
     "text": [
      "351092\n"
     ]
    }
   ],
   "source": [
    "# initialize the fish list\n",
    "starting_fish_list = [Lanternfish(i) for i in data6]\n",
    "# initialize the ocean\n",
    "ocean_obj = TheOcean(starting_fish_list)\n",
    "# proceed the default 80 days\n",
    "ocean_obj.proceed_n_days()\n",
    "print(len(ocean_obj.current_fish_list))"
   ]
  },
  {
   "cell_type": "markdown",
   "metadata": {},
   "source": [
    "### Part 2"
   ]
  },
  {
   "cell_type": "markdown",
   "metadata": {},
   "source": [
    "Do the same thing but for 256 days"
   ]
  },
  {
   "cell_type": "code",
   "execution_count": 21,
   "metadata": {},
   "outputs": [],
   "source": [
    "# Okay so this is an interesting task. Just doing the same thing may take too long\n",
    "# Need to come up with more efficient code"
   ]
  },
  {
   "cell_type": "code",
   "execution_count": 22,
   "metadata": {},
   "outputs": [
    {
     "data": {
      "text/plain": [
       "[<matplotlib.lines.Line2D at 0x7f981554c438>]"
      ]
     },
     "execution_count": 22,
     "metadata": {},
     "output_type": "execute_result"
    },
    {
     "data": {
      "image/png": "[encoded data removed]",
      "text/plain": [
       "<Figure size 432x288 with 1 Axes>"
      ]
     },
     "metadata": {
      "needs_background": "light"
     },
     "output_type": "display_data"
    }
   ],
   "source": [
    "from matplotlib import pyplot as plt\n",
    "%matplotlib inline\n",
    "plt.plot(list(range(1,81)), ocean_obj.n_fish)"
   ]
  },
  {
   "cell_type": "code",
   "execution_count": 24,
   "metadata": {},
   "outputs": [
    {
     "name": "stdout",
     "output_type": "stream",
     "text": [
      "1595330616005\n"
     ]
    }
   ],
   "source": [
    "starting_dict = {0:0,1:0,2:0,3:0,4:0,5:0,6:0,7:0,8:0}\n",
    "for i in data6:\n",
    "    starting_dict[i] += 1\n",
    "for i in range(256):\n",
    "    new_dict = {0:0,1:0,2:0,3:0,4:0,5:0,6:0,7:0,8:0}\n",
    "    for key in starting_dict.keys():\n",
    "        if key == 0:\n",
    "            new_dict[6]+=starting_dict[key]\n",
    "            new_dict[8]+=starting_dict[key]\n",
    "        else:\n",
    "            new_dict[key-1]+=starting_dict[key]\n",
    "    starting_dict=new_dict\n",
    "print(sum(starting_dict.values()))"
   ]
  },
  {
   "cell_type": "markdown",
   "metadata": {},
   "source": [
    "## Day 7"
   ]
  },
  {
   "cell_type": "markdown",
   "metadata": {},
   "source": [
    "### Part 1"
   ]
  },
  {
   "cell_type": "markdown",
   "metadata": {},
   "source": [
    "or example, consider the following horizontal positions:\n",
    "\n",
    "16,1,2,0,4,2,7,1,2,14\n",
    "This means there's a crab with horizontal position 16, a crab with horizontal position 1, and so on.\n",
    "\n",
    "Each change of 1 step in horizontal position of a single crab costs 1 fuel. You could choose any horizontal position to align them all on, but the one that costs the least fuel is horizontal position 2:<br>\n",
    "\n",
    "This costs a total of 37 fuel. This is the cheapest possible outcome; more expensive outcomes include aligning at position 1 (41 fuel), position 3 (39 fuel), or position 10 (71 fuel).\n",
    "\n",
    "Determine the horizontal position that the crabs can align to using the least fuel possible. How much fuel must they spend to align to that position?"
   ]
  },
  {
   "cell_type": "code",
   "execution_count": 2,
   "metadata": {},
   "outputs": [],
   "source": [
    "data7 = [] # Store measurements\n",
    "with open('day_7_data.txt') as f:\n",
    "    data7 = [int(i) for i in f.readlines()[0].split(',')]"
   ]
  },
  {
   "cell_type": "code",
   "execution_count": 3,
   "metadata": {},
   "outputs": [
    {
     "data": {
      "text/plain": [
       "[1101, 1, 29, 67, 1102]"
      ]
     },
     "execution_count": 3,
     "metadata": {},
     "output_type": "execute_result"
    }
   ],
   "source": [
    "data7[0:5]"
   ]
  },
  {
   "cell_type": "code",
   "execution_count": 4,
   "metadata": {},
   "outputs": [
    {
     "data": {
      "text/plain": [
       "2.0"
      ]
     },
     "execution_count": 4,
     "metadata": {},
     "output_type": "execute_result"
    }
   ],
   "source": [
    "# I think the optimal point would be the median\n",
    "import numpy as np\n",
    "# Works on the test data\n",
    "np.median([16,1,2,0,4,2,7,1,2,14])"
   ]
  },
  {
   "cell_type": "code",
   "execution_count": 5,
   "metadata": {},
   "outputs": [
    {
     "data": {
      "text/plain": [
       "333755.0"
      ]
     },
     "execution_count": 5,
     "metadata": {},
     "output_type": "execute_result"
    }
   ],
   "source": [
    "total_fuel = 0\n",
    "optimal_point = np.median(data7)\n",
    "for i in data7:\n",
    "    total_fuel+=abs(i-optimal_point)\n",
    "total_fuel"
   ]
  },
  {
   "cell_type": "markdown",
   "metadata": {},
   "source": [
    "### Part 2"
   ]
  },
  {
   "cell_type": "markdown",
   "metadata": {},
   "source": [
    "As it turns out, crab submarine engines don't burn fuel at a constant rate. Instead, each change of 1 step in horizontal position costs 1 more unit of fuel than the last: the first step costs 1, the second step costs 2, the third step costs 3, and so on.\n",
    "\n",
    "As each crab moves, moving further becomes more expensive. This changes the best horizontal position to align them all on; in the example above, this becomes 5:\n",
    "\n",
    "Determine the horizontal position that the crabs can align to using the least fuel possible so they can make you an escape route! How much fuel must they spend to align to that position?"
   ]
  },
  {
   "cell_type": "code",
   "execution_count": 11,
   "metadata": {},
   "outputs": [],
   "source": [
    "# total_fuel_calc part 2\n",
    "def total_fuel_calc(crab_pos, optimal_point):\n",
    "    total_fuel = 0\n",
    "    for item in crab_pos:\n",
    "        for i in range(1,abs(optimal_point-item)+1):\n",
    "            #print(i)\n",
    "            total_fuel+=i\n",
    "    return total_fuel\n",
    "\n",
    "total_fuel_calc([16,1,2,0,4,2,7,1,2,14],5)\n",
    "\n",
    "\n",
    "# I am sure there is a more elegant way to do this but I will think about it later\n",
    "# For now brute force seems to work\n",
    "\n",
    "# Turns out the mean is the optimal point, probably could've figured that out if i though\n",
    "# about it for 2 seconds\n",
    "t_fuel_list = []\n",
    "for i in range(100,750):\n",
    "    t_fuel_list.append(total_fuel_calc(data7,i))\n"
   ]
  },
  {
   "cell_type": "code",
   "execution_count": 12,
   "metadata": {},
   "outputs": [
    {
     "data": {
      "text/plain": [
       "[<matplotlib.lines.Line2D at 0x7fd7b43716a0>]"
      ]
     },
     "execution_count": 12,
     "metadata": {},
     "output_type": "execute_result"
    },
    {
     "data": {
      "image/png": "[encoded data removed]",
      "text/plain": [
       "<Figure size 432x288 with 1 Axes>"
      ]
     },
     "metadata": {
      "needs_background": "light"
     },
     "output_type": "display_data"
    }
   ],
   "source": [
    "from matplotlib import pyplot as plt\n",
    "plt.plot(list(range(100,750)),t_fuel_list)"
   ]
  },
  {
   "cell_type": "code",
   "execution_count": 13,
   "metadata": {},
   "outputs": [
    {
     "data": {
      "text/plain": [
       "94017638"
      ]
     },
     "execution_count": 13,
     "metadata": {},
     "output_type": "execute_result"
    }
   ],
   "source": [
    "new_opt = np.argmin(t_fuel_list)+100\n",
    "answer = total_fuel_calc(data7, new_opt)\n",
    "answer"
   ]
  },
  {
   "cell_type": "markdown",
   "metadata": {
    "pycharm": {
     "name": "#%% md\n"
    }
   },
   "source": [
    "## Day 8"
   ]
  },
  {
   "cell_type": "markdown",
   "source": [
    "### Part 1"
   ],
   "metadata": {
    "collapsed": false,
    "pycharm": {
     "name": "#%% md\n"
    }
   }
  },
  {
   "cell_type": "markdown",
   "source": [
    "https://adventofcode.com/2021/day/8\n",
    "\n",
    "This ones hard to describe"
   ],
   "metadata": {
    "collapsed": false,
    "pycharm": {
     "name": "#%% md\n"
    }
   }
  },
  {
   "cell_type": "code",
   "execution_count": 49,
   "outputs": [],
   "source": [
    "import numpy as np\n",
    "from collections import Counter"
   ],
   "metadata": {
    "collapsed": false,
    "pycharm": {
     "name": "#%%\n"
    }
   }
  },
  {
   "cell_type": "code",
   "execution_count": 6,
   "outputs": [],
   "source": [
    "data8 = [] # Store measurements\n",
    "with open('day_8_data.txt') as f:\n",
    "    for i in f.readlines():\n",
    "        data8.append(i.split(\"\\n\")[0])"
   ],
   "metadata": {
    "collapsed": false,
    "pycharm": {
     "name": "#%%\n"
    }
   }
  },
  {
   "cell_type": "code",
   "execution_count": 23,
   "outputs": [],
   "source": [
    "part1_output = [i.split(' | ')[1] for i in data8]\n",
    "length_mapping = {2:1,\n",
    "                  4:4,\n",
    "                  3:7,\n",
    "                  7:8}"
   ],
   "metadata": {
    "collapsed": false,
    "pycharm": {
     "name": "#%%\n"
    }
   }
  },
  {
   "cell_type": "code",
   "execution_count": 24,
   "outputs": [],
   "source": [
    "length_list = []\n",
    "for item in part1_output:\n",
    "    item = item.split(' ')\n",
    "    lengths = [len(i) for i in item]\n",
    "    length_list.append(lengths)"
   ],
   "metadata": {
    "collapsed": false,
    "pycharm": {
     "name": "#%%\n"
    }
   }
  },
  {
   "cell_type": "code",
   "execution_count": 25,
   "outputs": [
    {
     "data": {
      "text/plain": "479"
     },
     "execution_count": 25,
     "metadata": {},
     "output_type": "execute_result"
    }
   ],
   "source": [
    "total_appearances = 0\n",
    "for l_list in length_list:\n",
    "    for l in l_list:\n",
    "        if l in length_mapping.keys():\n",
    "            total_appearances+=1\n",
    "total_appearances"
   ],
   "metadata": {
    "collapsed": false,
    "pycharm": {
     "name": "#%%\n"
    }
   }
  },
  {
   "cell_type": "markdown",
   "source": [
    "### Part 2"
   ],
   "metadata": {
    "collapsed": false,
    "pycharm": {
     "name": "#%% md\n"
    }
   }
  },
  {
   "cell_type": "markdown",
   "source": [
    "https://adventofcode.com/2021/day/8#part2"
   ],
   "metadata": {
    "collapsed": false,
    "pycharm": {
     "name": "#%% md\n"
    }
   }
  },
  {
   "cell_type": "code",
   "execution_count": 99,
   "outputs": [],
   "source": [
    "from collections import defaultdict\n",
    "def pattern_solver(sequence):\n",
    "    arrangement = defaultdict(set)\n",
    "    total_tracked = []\n",
    "    for item in sequence:\n",
    "        if len(item) == 2: # Start with 2's\n",
    "            arrangement['top_right'].add(item[0])\n",
    "            arrangement['top_right'].add(item[1])\n",
    "            arrangement['bottom_right'].add(item[0])\n",
    "            arrangement['bottom_right'].add(item[1])\n",
    "            total_tracked.append(item[0])\n",
    "            total_tracked.append(item[1])\n",
    "    #print(1)\n",
    "    #print(arrangement)\n",
    "    for item in sequence:\n",
    "        if len(item) == 3: # Now 7's allows use to define the top letter - letter isnt already in dict\n",
    "            for i in item:\n",
    "                if i not in arrangement['top_right']:\n",
    "                    arrangement['top'] = i\n",
    "                    total_tracked.append(i)\n",
    "    #print(2)\n",
    "    #print(arrangement)\n",
    "    #print(total_tracked)\n",
    "    for item in sequence:\n",
    "        if len(item) == 4: # Four allows us to limit the middle and top left to 2\n",
    "            for i in item:\n",
    "                if i not in list(arrangement['top_right']):\n",
    "                    arrangement['middle'].add(i)\n",
    "                    arrangement['top_left'].add(i)\n",
    "                    total_tracked.append(i)\n",
    "\n",
    "    #print(3)\n",
    "    #print(arrangement)\n",
    "    #print(total_tracked)\n",
    "    for item in sequence:\n",
    "        if len(item) == 6: # now look at 9, we know all present letters except bottom, so define bottom\n",
    "            total_item = 0\n",
    "            for i in item:\n",
    "                if i in total_tracked:\n",
    "                    total_item+=1\n",
    "                else:\n",
    "                    missed_item = i\n",
    "            if total_item == 5:\n",
    "                arrangement['bottom'] = missed_item\n",
    "                total_tracked.append(missed_item)\n",
    "                break\n",
    "    #print(4)\n",
    "    #print(arrangement)\n",
    "    #print(total_tracked)\n",
    "    for item in sequence:\n",
    "        if len(item) == 7: # Now look at 8, we know all present except bottom left, define bottom left.\n",
    "            total_item = 0\n",
    "            for i in item:\n",
    "                if i in total_tracked:\n",
    "                    total_item+=1\n",
    "                else:\n",
    "                    missed_item = i\n",
    "            if total_item == 6:\n",
    "                arrangement['bottom_left'] = missed_item\n",
    "                total_tracked.append(missed_item)\n",
    "    #print(5)\n",
    "    #print(arrangement)\n",
    "    #print(total_tracked)\n",
    "    for item in sequence:\n",
    "        if len(item) == 5: # Now lets focus on 3. this needs to have all right, top, middle and bottom\n",
    "            # Should be able to define middle by process of elim\n",
    "            meets_reqs = 0\n",
    "            for i in item:\n",
    "                if i in list(arrangement['top_right']) or i in list(arrangement['top']) or i in list(arrangement['bottom']):\n",
    "                    meets_reqs+=1\n",
    "                else:\n",
    "                    mid_item = i\n",
    "            if meets_reqs == 4:\n",
    "                arrangement['top_left'].remove(mid_item)\n",
    "                arrangement['top_left'] = list(arrangement['top_left'])[0]\n",
    "                arrangement['middle'] = mid_item\n",
    "    #print(6)\n",
    "    #print(arrangement)\n",
    "\n",
    "    for item in sequence:\n",
    "        undefined_counter = 0\n",
    "        undefined_items = list(arrangement['top_right'])\n",
    "        if len(item) == 6:\n",
    "            for i in item:\n",
    "                if i in undefined_items:\n",
    "                    undefined_counter+=1\n",
    "                    undefined_item = i\n",
    "        if undefined_counter == 1:\n",
    "            arrangement['top_right'].remove(undefined_item)\n",
    "            arrangement['top_right'] = list(arrangement['top_right'])[0]\n",
    "            arrangement['bottom_right'] = undefined_item\n",
    "            break\n",
    "    #print(7)\n",
    "    #print(arrangement)\n",
    "\n",
    "\n",
    "    inv_map = {v: k for k, v in arrangement.items()}\n",
    "\n",
    "\n",
    "    return inv_map\n",
    "\n",
    "position_to_number = {0:['top', 'top_left', 'bottom_left', 'bottom', 'bottom_right','top_right'],\n",
    "                      1:['top_right', 'bottom_right'],\n",
    "                      2:['top', 'top_right', 'middle', 'bottom_left', 'bottom'],\n",
    "                      3:['top', 'top_right', 'middle', 'bottom_right','bottom'],\n",
    "                      4:['top_right','top_left','middle','bottom_right'],\n",
    "                      5:['top', 'top_left','middle', 'bottom_right','bottom'],\n",
    "                      6:['top', 'top_left', 'middle', 'bottom_right', 'bottom', 'bottom_left'],\n",
    "                      7:['top', 'top_right', 'bottom_right'],\n",
    "                      8:['top', 'middle', 'bottom', 'bottom_right', 'top_right', 'bottom_left', 'top_left'],\n",
    "                      9:['top', 'middle', 'bottom', 'top_left', 'top_right', 'bottom_right']}\n",
    "\n",
    "\n",
    "\n"
   ],
   "metadata": {
    "collapsed": false,
    "pycharm": {
     "name": "#%%\n"
    }
   }
  },
  {
   "cell_type": "code",
   "execution_count": 100,
   "outputs": [],
   "source": [
    "all_answers = []\n",
    "for item in data8:\n",
    "    #print(item)\n",
    "    input = item.split(' | ')[0]\n",
    "    output = item.split(' | ')[1].split(' ')\n",
    "    solved_dict = pattern_solver(input.split(' '))\n",
    "    answer_list = []\n",
    "    for output_str in output:\n",
    "        #print(output_str)\n",
    "        answer = [solved_dict[i] for i in output_str]\n",
    "        for key in position_to_number.keys():\n",
    "            if set(position_to_number[key]) == set(answer):\n",
    "                answer_list.append(str(key))\n",
    "    all_answers.append(int(''.join(answer_list)))\n"
   ],
   "metadata": {
    "collapsed": false,
    "pycharm": {
     "name": "#%%\n"
    }
   }
  },
  {
   "cell_type": "code",
   "execution_count": 102,
   "outputs": [
    {
     "data": {
      "text/plain": "1041746"
     },
     "execution_count": 102,
     "metadata": {},
     "output_type": "execute_result"
    }
   ],
   "source": [
    "sum(all_answers)"
   ],
   "metadata": {
    "collapsed": false,
    "pycharm": {
     "name": "#%%\n"
    }
   }
  },
  {
   "cell_type": "markdown",
   "source": [
    "### Day 9"
   ],
   "metadata": {
    "collapsed": false,
    "pycharm": {
     "name": "#%% md\n"
    }
   }
  },
  {
   "cell_type": "markdown",
   "source": [
    "### Part 1"
   ],
   "metadata": {
    "collapsed": false,
    "pycharm": {
     "name": "#%% md\n"
    }
   }
  },
  {
   "cell_type": "markdown",
   "source": [
    "Smoke flows to the lowest point of the area it's in. For example, consider the following heightmap:\n",
    "\n",
    "2199943210\n",
    "3987894921\n",
    "9856789892\n",
    "8767896789\n",
    "9899965678\n",
    "Each number corresponds to the height of a particular location, where 9 is the highest and 0 is the lowest a location can be.\n",
    "\n",
    "Your first goal is to find the low points - the locations that are lower than any of its adjacent locations. Most locations have four adjacent locations (up, down, left, and right); locations on the edge or corner of the map have three or two adjacent locations, respectively. (Diagonal locations do not count as adjacent.)\n",
    "\n",
    "In the above example, there are four low points, all highlighted: two are in the first row (a 1 and a 0), one is in the third row (a 5), and one is in the bottom row (also a 5). All other locations on the heightmap have some lower adjacent location, and so are not low points.\n",
    "\n",
    "The risk level of a low point is 1 plus its height. In the above example, the risk levels of the low points are 2, 1, 6, and 6. The sum of the risk levels of all low points in the heightmap is therefore 15.\n",
    "\n",
    "Find all of the low points on your heightmap. What is the sum of the risk levels of all low points on your heightmap?\n"
   ],
   "metadata": {
    "collapsed": false,
    "pycharm": {
     "name": "#%% md\n"
    }
   }
  },
  {
   "cell_type": "code",
   "execution_count": 6,
   "outputs": [],
   "source": [
    "data9 = [] # Store measurements\n",
    "with open('day_9_data.txt') as f:\n",
    "    for i in f.readlines():\n",
    "        data9.append(i.split(\"\\n\")[0])"
   ],
   "metadata": {
    "collapsed": false,
    "pycharm": {
     "name": "#%%\n"
    }
   }
  },
  {
   "cell_type": "code",
   "execution_count": 12,
   "outputs": [
    {
     "data": {
      "text/plain": "array([[9., 9., 7., 6., 5.],\n       [8., 7., 6., 5., 4.],\n       [9., 8., 9., 8., 5.],\n       [8., 9., 8., 7., 6.],\n       [7., 6., 9., 8., 7.]])"
     },
     "execution_count": 12,
     "metadata": {},
     "output_type": "execute_result"
    }
   ],
   "source": [
    "import numpy as np\n",
    "data_map = np.zeros((len(data9[0]), len(data9)))\n",
    "for row_ind, item in enumerate(data9):\n",
    "    for col_ind, value in enumerate(item):\n",
    "        data_map[row_ind,col_ind] = int(value)\n",
    "data_map[0:5,0:5]"
   ],
   "metadata": {
    "collapsed": false,
    "pycharm": {
     "name": "#%%\n"
    }
   }
  },
  {
   "cell_type": "code",
   "execution_count": 43,
   "outputs": [
    {
     "data": {
      "text/plain": "558.0"
     },
     "execution_count": 43,
     "metadata": {},
     "output_type": "execute_result"
    }
   ],
   "source": [
    "mins = []\n",
    "min_row_col_pairs = []\n",
    "for row_ind, row in enumerate(data_map):\n",
    "    for col_ind, value in enumerate(row):\n",
    "        comp_vals = []\n",
    "        if row_ind != 0:\n",
    "            top = data_map[row_ind-1,col_ind]\n",
    "            comp_vals.append(top)\n",
    "        if row_ind != len(data_map)-1:\n",
    "            bottom = data_map[row_ind+1,col_ind]\n",
    "            comp_vals.append(bottom)\n",
    "        if col_ind != len(data_map[0])-1:\n",
    "            right = data_map[row_ind, col_ind+1]\n",
    "            comp_vals.append(right)\n",
    "        if col_ind != 0:\n",
    "            left = data_map[row_ind, col_ind-1]\n",
    "            comp_vals.append(left)\n",
    "        if value < min(comp_vals):\n",
    "            mins.append(value+1)\n",
    "            min_row_col_pairs.append(tuple([row_ind,col_ind]))\n",
    "        #print(comp_vals, value)\n",
    "sum(mins)"
   ],
   "metadata": {
    "collapsed": false,
    "pycharm": {
     "name": "#%%\n"
    }
   }
  },
  {
   "cell_type": "code",
   "execution_count": 45,
   "outputs": [
    {
     "data": {
      "text/plain": "[(0, 43),\n (0, 78),\n (0, 96),\n (1, 7),\n (1, 15),\n (1, 24),\n (1, 36),\n (2, 65),\n (3, 53),\n (4, 13),\n (4, 90),\n (5, 31),\n (5, 46),\n (6, 3),\n (6, 19),\n (6, 60),\n (6, 80),\n (7, 9),\n (7, 41),\n (7, 84),\n (8, 96),\n (9, 8),\n (9, 71),\n (10, 65),\n (10, 77),\n (10, 87),\n (10, 91),\n (11, 35),\n (11, 56),\n (11, 82),\n (12, 1),\n (12, 13),\n (12, 23),\n (12, 48),\n (14, 32),\n (15, 70),\n (15, 81),\n (15, 88),\n (15, 98),\n (16, 8),\n (16, 40),\n (17, 29),\n (17, 78),\n (18, 16),\n (19, 1),\n (19, 53),\n (19, 64),\n (20, 20),\n (20, 25),\n (20, 82),\n (20, 92),\n (22, 13),\n (22, 73),\n (23, 6),\n (23, 33),\n (23, 46),\n (23, 79),\n (24, 88),\n (24, 98),\n (26, 0),\n (26, 25),\n (26, 61),\n (27, 53),\n (27, 69),\n (27, 77),\n (28, 82),\n (28, 94),\n (30, 4),\n (30, 10),\n (30, 24),\n (30, 30),\n (30, 42),\n (31, 36),\n (31, 61),\n (32, 99),\n (33, 0),\n (33, 7),\n (33, 25),\n (33, 47),\n (33, 72),\n (33, 87),\n (34, 17),\n (35, 57),\n (35, 91),\n (36, 42),\n (36, 65),\n (36, 78),\n (36, 99),\n (37, 0),\n (37, 9),\n (38, 34),\n (39, 21),\n (39, 29),\n (40, 42),\n (40, 85),\n (41, 70),\n (41, 92),\n (42, 12),\n (42, 33),\n (42, 48),\n (42, 65),\n (43, 57),\n (43, 78),\n (43, 96),\n (44, 5),\n (46, 24),\n (46, 42),\n (46, 69),\n (47, 63),\n (47, 82),\n (49, 11),\n (49, 39),\n (49, 53),\n (49, 73),\n (49, 96),\n (50, 0),\n (50, 34),\n (50, 43),\n (50, 89),\n (51, 8),\n (51, 51),\n (51, 60),\n (51, 99),\n (52, 81),\n (53, 19),\n (54, 3),\n (54, 39),\n (54, 66),\n (54, 88),\n (54, 92),\n (55, 29),\n (55, 44),\n (55, 99),\n (57, 11),\n (57, 78),\n (58, 30),\n (58, 35),\n (58, 57),\n (58, 72),\n (59, 0),\n (59, 25),\n (59, 41),\n (59, 92),\n (60, 49),\n (60, 86),\n (60, 96),\n (62, 65),\n (62, 79),\n (63, 6),\n (63, 17),\n (64, 0),\n (64, 99),\n (65, 21),\n (66, 31),\n (66, 36),\n (66, 55),\n (66, 88),\n (66, 94),\n (67, 13),\n (67, 60),\n (67, 71),\n (68, 78),\n (69, 35),\n (69, 44),\n (69, 84),\n (70, 8),\n (71, 2),\n (71, 18),\n (71, 27),\n (71, 55),\n (71, 65),\n (72, 50),\n (73, 75),\n (73, 98),\n (74, 12),\n (74, 30),\n (74, 91),\n (75, 6),\n (75, 47),\n (76, 45),\n (76, 83),\n (77, 21),\n (77, 38),\n (77, 71),\n (77, 78),\n (78, 1),\n (78, 10),\n (78, 58),\n (79, 52),\n (79, 65),\n (79, 87),\n (80, 27),\n (80, 92),\n (81, 16),\n (82, 4),\n (83, 45),\n (83, 58),\n (83, 70),\n (83, 77),\n (83, 83),\n (84, 1),\n (84, 89),\n (84, 99),\n (85, 9),\n (85, 64),\n (86, 22),\n (87, 19),\n (87, 35),\n (87, 53),\n (88, 3),\n (88, 13),\n (88, 60),\n (88, 75),\n (88, 93),\n (89, 27),\n (91, 85),\n (92, 8),\n (92, 43),\n (92, 56),\n (92, 66),\n (93, 21),\n (93, 49),\n (93, 71),\n (93, 92),\n (94, 63),\n (95, 99),\n (96, 68),\n (97, 3),\n (97, 13),\n (97, 24),\n (98, 53),\n (98, 73),\n (98, 93),\n (99, 21),\n (99, 32),\n (99, 41),\n (99, 46),\n (99, 58),\n (99, 80),\n (99, 88)]"
     },
     "execution_count": 45,
     "metadata": {},
     "output_type": "execute_result"
    }
   ],
   "source": [
    "min_row_col_pairs"
   ],
   "metadata": {
    "collapsed": false,
    "pycharm": {
     "name": "#%%\n"
    }
   }
  },
  {
   "cell_type": "code",
   "execution_count": 89,
   "outputs": [],
   "source": [
    "# To approach this lets make a few functions\n",
    "valley_size = []\n",
    "\n",
    "for item in min_row_col_pairs:\n",
    "    to_check = set()\n",
    "    to_check.add(item)\n",
    "    included = set()\n",
    "    checked = set()\n",
    "    #print(to_check)\n",
    "    while to_check != set():\n",
    "        #print(to_check)\n",
    "        #print(f\"to check: {to_check}\")\n",
    "        pair = list(to_check)[0]\n",
    "        #print(f\"pair:{pair}\")\n",
    "        #print(f\"checked: {checked}\")\n",
    "        if pair in checked:\n",
    "            pass\n",
    "        else:\n",
    "            checked.add(pair)\n",
    "            neighbor_vals = []\n",
    "            neighbor_coords = []\n",
    "            if  pair[0] != 0:\n",
    "                top = data_map[pair[0]-1,pair[1]]\n",
    "                neighbor_vals.append(top)\n",
    "                neighbor_coords.append(tuple([pair[0]-1,pair[1]]))\n",
    "            else:\n",
    "                neighbor_vals.append(9)\n",
    "                neighbor_coords.append(tuple([pair[0]-1,pair[1]]))\n",
    "            if pair[0] != len(data_map)-1:\n",
    "                bottom = data_map[pair[0]+1,pair[1]]\n",
    "                neighbor_vals.append(bottom)\n",
    "                neighbor_coords.append(tuple([pair[0]+1,pair[1]]))\n",
    "            else:\n",
    "                neighbor_vals.append(9)\n",
    "                neighbor_coords.append(tuple([pair[0]+1,pair[1]]))\n",
    "            if pair[1] != len(data_map[0])-1:\n",
    "                right = data_map[pair[0], pair[1]+1]\n",
    "                neighbor_vals.append(right)\n",
    "                neighbor_coords.append(tuple([pair[0], pair[1]+1]))\n",
    "            else:\n",
    "                neighbor_vals.append(9)\n",
    "                neighbor_coords.append(tuple([pair[0], pair[1]+1]))\n",
    "            if pair[1] != 0:\n",
    "                left = data_map[pair[0], pair[1]-1]\n",
    "                neighbor_vals.append(left)\n",
    "                neighbor_coords.append(tuple([pair[0], pair[1]-1]))\n",
    "            else:\n",
    "                neighbor_vals.append(9)\n",
    "                neighbor_coords.append(tuple([pair[0], pair[1]-1]))\n",
    "            for ind, idx in enumerate(neighbor_vals):\n",
    "                if idx == 9:\n",
    "                    included.add(pair)\n",
    "                else:\n",
    "                    to_check.add(neighbor_coords[ind])\n",
    "                    included.add(pair)\n",
    "            #print(f\"remove: {pair}\")\n",
    "        to_check.remove(pair)\n",
    "        #print(\"==========================================\")\n",
    "    valley_size.append(len(included))\n",
    "\n"
   ],
   "metadata": {
    "collapsed": false,
    "pycharm": {
     "name": "#%%\n"
    }
   }
  },
  {
   "cell_type": "code",
   "execution_count": 90,
   "outputs": [
    {
     "data": {
      "text/plain": "882942"
     },
     "execution_count": 90,
     "metadata": {},
     "output_type": "execute_result"
    }
   ],
   "source": [
    "sorted_valleys = sorted(valley_size, reverse=True)\n",
    "answer = sorted_valleys[0]*sorted_valleys[1]*sorted_valleys[2]\n",
    "answer"
   ],
   "metadata": {
    "collapsed": false,
    "pycharm": {
     "name": "#%%\n"
    }
   }
  },
  {
   "cell_type": "markdown",
   "source": [
    "### Day 10"
   ],
   "metadata": {
    "collapsed": false,
    "pycharm": {
     "name": "#%% md\n"
    }
   }
  },
  {
   "cell_type": "markdown",
   "source": [
    "#### Part 1"
   ],
   "metadata": {
    "collapsed": false,
    "pycharm": {
     "name": "#%% md\n"
    }
   }
  },
  {
   "cell_type": "code",
   "execution_count": 1,
   "outputs": [],
   "source": [
    "data10 = [] # Store measurements\n",
    "with open('day_10_data.txt') as f:\n",
    "    for i in f.readlines():\n",
    "        data10.append(i.split(\"\\n\")[0])"
   ],
   "metadata": {
    "collapsed": false,
    "pycharm": {
     "name": "#%%\n"
    }
   }
  },
  {
   "cell_type": "code",
   "execution_count": 11,
   "outputs": [],
   "source": [
    "lookups = {')':3,\n",
    "           ']':57,\n",
    "           '}':1197,\n",
    "           '>':25137\n",
    "}\n",
    "\n",
    "def capture_wrong_char(test_example):\n",
    "    opposites = {'{':'}',\n",
    "                 '[':']',\n",
    "                 '(':')',\n",
    "                 '<':'>'\n",
    "                 }\n",
    "    allowed = ['[','(','{','<']\n",
    "    running_list = []\n",
    "    for i in test_example:\n",
    "        if i in allowed:\n",
    "            running_list.insert(0, opposites[i])\n",
    "        elif i == running_list[0]:\n",
    "            running_list.remove(i)\n",
    "        else:\n",
    "            #print(f'Expected {running_list[0]} and got {i}')\n",
    "            return i"
   ],
   "metadata": {
    "collapsed": false,
    "pycharm": {
     "name": "#%%\n"
    }
   }
  },
  {
   "cell_type": "code",
   "execution_count": 19,
   "outputs": [
    {
     "name": "stdout",
     "output_type": "stream",
     "text": [
      "243939\n"
     ]
    }
   ],
   "source": [
    "wrong_chars = []\n",
    "for item in data10:\n",
    "    wrong_item = capture_wrong_char(item)\n",
    "    if wrong_item != None:\n",
    "        wrong_chars.append(wrong_item)\n",
    "\n",
    "\n",
    "total_sum = 0\n",
    "for char in wrong_chars:\n",
    "    total_sum+=lookups[char]\n",
    "print(total_sum)"
   ],
   "metadata": {
    "collapsed": false,
    "pycharm": {
     "name": "#%%\n"
    }
   }
  },
  {
   "cell_type": "markdown",
   "source": [
    "### part 2"
   ],
   "metadata": {
    "collapsed": false,
    "pycharm": {
     "name": "#%% md\n"
    }
   }
  },
  {
   "cell_type": "code",
   "execution_count": 39,
   "outputs": [],
   "source": [
    "import numpy as np"
   ],
   "metadata": {
    "collapsed": false,
    "pycharm": {
     "name": "#%%\n"
    }
   }
  },
  {
   "cell_type": "code",
   "execution_count": 36,
   "outputs": [],
   "source": [
    "def get_finishing_string(test_example):\n",
    "    opposites = {'{':'}',\n",
    "                 '[':']',\n",
    "                 '(':')',\n",
    "                 '<':'>'\n",
    "                 }\n",
    "    allowed = ['[','(','{','<']\n",
    "    running_list = []\n",
    "    for i in test_example:\n",
    "        #print(running_list)\n",
    "        if i in allowed:\n",
    "            running_list.insert(0, opposites[i])\n",
    "        elif i == running_list[0]:\n",
    "            running_list.remove(i)\n",
    "        else:\n",
    "            #print(f'Expected {running_list[0]} and got {i}')\n",
    "            break\n",
    "    return running_list\n",
    "\n",
    "def calc_score(finish_string):\n",
    "    total_score = 0\n",
    "    scoring = {')':1,\n",
    "               ']':2,\n",
    "               '}':3,\n",
    "               '>':4}\n",
    "    for string in finish_string:\n",
    "        total_score*=5\n",
    "        total_score+=scoring[string]\n",
    "    return total_score"
   ],
   "metadata": {
    "collapsed": false,
    "pycharm": {
     "name": "#%%\n"
    }
   }
  },
  {
   "cell_type": "code",
   "execution_count": 37,
   "outputs": [],
   "source": [
    "incomplete_strings = []\n",
    "for item in data10:\n",
    "    wrong_item = capture_wrong_char(item)\n",
    "    if wrong_item == None:\n",
    "        incomplete_strings.append(item)"
   ],
   "metadata": {
    "collapsed": false,
    "pycharm": {
     "name": "#%%\n"
    }
   }
  },
  {
   "cell_type": "code",
   "execution_count": 38,
   "outputs": [],
   "source": [
    "finishing_strings = []\n",
    "for inc_string in incomplete_strings:\n",
    "    finishing_strings.append(get_finishing_string(inc_string))"
   ],
   "metadata": {
    "collapsed": false,
    "pycharm": {
     "name": "#%%\n"
    }
   }
  },
  {
   "cell_type": "code",
   "execution_count": 40,
   "outputs": [
    {
     "data": {
      "text/plain": "2421222841.0"
     },
     "execution_count": 40,
     "metadata": {},
     "output_type": "execute_result"
    }
   ],
   "source": [
    "scores = []\n",
    "for finishing_string in finishing_strings:\n",
    "    scores.append(calc_score(finishing_string))\n",
    "np.median(scores)\n"
   ],
   "metadata": {
    "collapsed": false,
    "pycharm": {
     "name": "#%%\n"
    }
   }
  },
  {
   "cell_type": "markdown",
   "source": [
    "### Day 11"
   ],
   "metadata": {
    "collapsed": false,
    "pycharm": {
     "name": "#%% md\n"
    }
   }
  },
  {
   "cell_type": "markdown",
   "source": [
    "#### Part 1"
   ],
   "metadata": {
    "collapsed": false,
    "pycharm": {
     "name": "#%% md\n"
    }
   }
  },
  {
   "cell_type": "code",
   "execution_count": 81,
   "outputs": [
    {
     "data": {
      "text/plain": "1603"
     },
     "execution_count": 81,
     "metadata": {},
     "output_type": "execute_result"
    }
   ],
   "source": [
    "data11 = [] # Store measurements\n",
    "with open('day_11_data.txt') as f:\n",
    "    for i in f.readlines():\n",
    "        data11.append(i.split(\"\\n\")[0])\n",
    "\n",
    "day_11_matrix = np.zeros((len(data11[0]), len(data11)))\n",
    "for row_ind, l in enumerate(data11):\n",
    "    for col_ind, c in enumerate(l):\n",
    "        day_11_matrix[row_ind,col_ind] = int(c)\n",
    "\n",
    "# handle this in 3 steps.\n",
    "# First add 1 to every value\n",
    "# Collect the coordinates of the 9's\n",
    "# iterate over flashes until they are all done.\n",
    "\n",
    "def search_matrix_nines(mat):\n",
    "    coords = set()\n",
    "    for row_ind, r in enumerate(mat):\n",
    "        for col_ind, c in enumerate(r):\n",
    "            if c == 10:\n",
    "                coords.add((row_ind,col_ind))\n",
    "    return coords\n",
    "\n",
    "def flash(mat, coords):\n",
    "    updates = [(0,1), (1,0), (1,1), (-1,-1), (-1,0), (0,-1), (1,-1), (-1,1)]\n",
    "    new_nines = []\n",
    "    for item in updates:\n",
    "        coords_to_update = (coords[0]+item[0], coords[1] + item[1])\n",
    "        if coords_to_update[0] >= 0 and coords_to_update[0] <= 9 and coords_to_update[1] >= 0 and coords_to_update[1] <= 9:\n",
    "            if mat[coords_to_update[0],coords_to_update[1]] != 0 and mat[coords_to_update[0], coords_to_update[1]] <= 9:\n",
    "                mat[coords_to_update[0], coords_to_update[1]] = mat[coords_to_update[0], coords_to_update[1]] + 1\n",
    "            if mat[coords_to_update[0], coords_to_update[1]] == 10:\n",
    "                new_nines.append((coords_to_update[0], coords_to_update[1]))\n",
    "        #print(new_nines)\n",
    "    mat[coords[0],coords[1]] = 0\n",
    "    return mat, new_nines\n",
    "\n",
    "\n",
    "num_flashes = 0\n",
    "for iterative in range(100):\n",
    "    flashed = set()\n",
    "    day_11_matrix = day_11_matrix + 1\n",
    "    nine_coords = search_matrix_nines(day_11_matrix)\n",
    "    while nine_coords != set():\n",
    "        flasher = list(nine_coords)[0]\n",
    "        if flasher in flashed:\n",
    "            pass\n",
    "        else:\n",
    "            day_11_matrix, nine_list = flash(day_11_matrix, flasher)\n",
    "            for new_nine in nine_list:\n",
    "                if new_nine not in flashed:\n",
    "                    nine_coords.add(new_nine)\n",
    "            flashed.add(flasher)\n",
    "            nine_coords.remove(flasher)\n",
    "            num_flashes+=1\n",
    "num_flashes"
   ],
   "metadata": {
    "collapsed": false,
    "pycharm": {
     "name": "#%%\n"
    }
   }
  },
  {
   "cell_type": "markdown",
   "source": [
    "### Part 2"
   ],
   "metadata": {
    "collapsed": false,
    "pycharm": {
     "name": "#%% md\n"
    }
   }
  },
  {
   "cell_type": "code",
   "execution_count": 94,
   "outputs": [
    {
     "data": {
      "text/plain": "222"
     },
     "execution_count": 94,
     "metadata": {},
     "output_type": "execute_result"
    }
   ],
   "source": [
    "data11 = [] # Store measurements\n",
    "with open('day_11_data.txt') as f:\n",
    "    for i in f.readlines():\n",
    "        data11.append(i.split(\"\\n\")[0])\n",
    "\n",
    "day_11_matrix = np.zeros((len(data11[0]), len(data11)))\n",
    "for row_ind, l in enumerate(data11):\n",
    "    for col_ind, c in enumerate(l):\n",
    "        day_11_matrix[row_ind,col_ind] = int(c)\n",
    "\n",
    "# handle this in 3 steps.\n",
    "# First add 1 to every value\n",
    "# Collect the coordinates of the 9's\n",
    "# iterate over flashes until they are all done.\n",
    "\n",
    "def search_matrix_nines(mat):\n",
    "    coords = set()\n",
    "    for row_ind, r in enumerate(mat):\n",
    "        for col_ind, c in enumerate(r):\n",
    "            if c == 10:\n",
    "                coords.add((row_ind,col_ind))\n",
    "    return coords\n",
    "\n",
    "def flash(mat, coords):\n",
    "    updates = [(0,1), (1,0), (1,1), (-1,-1), (-1,0), (0,-1), (1,-1), (-1,1)]\n",
    "    new_nines = []\n",
    "    for item in updates:\n",
    "        coords_to_update = (coords[0]+item[0], coords[1] + item[1])\n",
    "        if coords_to_update[0] >= 0 and coords_to_update[0] <= 9 and coords_to_update[1] >= 0 and coords_to_update[1] <= 9:\n",
    "            if mat[coords_to_update[0],coords_to_update[1]] != 0 and mat[coords_to_update[0], coords_to_update[1]] <= 9:\n",
    "                mat[coords_to_update[0], coords_to_update[1]] = mat[coords_to_update[0], coords_to_update[1]] + 1\n",
    "            if mat[coords_to_update[0], coords_to_update[1]] == 10:\n",
    "                new_nines.append((coords_to_update[0], coords_to_update[1]))\n",
    "        #print(new_nines)\n",
    "    mat[coords[0],coords[1]] = 0\n",
    "    return mat, new_nines\n",
    "\n",
    "count = 0\n",
    "for iterative in range(1000):\n",
    "    if np.sum(day_11_matrix) != 0:\n",
    "        flashed = set()\n",
    "        day_11_matrix = day_11_matrix + 1\n",
    "        nine_coords = search_matrix_nines(day_11_matrix)\n",
    "        while nine_coords != set():\n",
    "            flasher = list(nine_coords)[0]\n",
    "            if flasher in flashed:\n",
    "                pass\n",
    "            else:\n",
    "                day_11_matrix, nine_list = flash(day_11_matrix, flasher)\n",
    "                for new_nine in nine_list:\n",
    "                    if new_nine not in flashed:\n",
    "                        nine_coords.add(new_nine)\n",
    "                flashed.add(flasher)\n",
    "                nine_coords.remove(flasher)\n",
    "                num_flashes+=1\n",
    "        count += 1\n",
    "    else:\n",
    "        break\n",
    "count"
   ],
   "metadata": {
    "collapsed": false,
    "pycharm": {
     "name": "#%%\n"
    }
   }
  },
  {
   "cell_type": "markdown",
   "source": [
    "### Day 12"
   ],
   "metadata": {
    "collapsed": false,
    "pycharm": {
     "name": "#%% md\n"
    }
   }
  },
  {
   "cell_type": "markdown",
   "source": [
    "#### Part 1"
   ],
   "metadata": {
    "collapsed": false,
    "pycharm": {
     "name": "#%% md\n"
    }
   }
  },
  {
   "cell_type": "code",
   "execution_count": 249,
   "outputs": [],
   "source": [
    "data12 = [] # Store measurements\n",
    "with open('day_12_data.txt') as f:\n",
    "    for i in f.readlines():\n",
    "        data12.append(i.split(\"\\n\")[0])"
   ],
   "metadata": {
    "collapsed": false,
    "pycharm": {
     "name": "#%%\n"
    }
   }
  },
  {
   "cell_type": "code",
   "execution_count": 250,
   "outputs": [],
   "source": [
    "from collections import defaultdict, Counter\n",
    "import copy\n",
    "# First get all unique items and mark them as upper or lower\n",
    "\n",
    "items_total = set() # store unique items\n",
    "item_type = {} # store item type\n",
    "\n",
    "for edge in data12:\n",
    "    edges = edge.split('-')\n",
    "    for node in edges:\n",
    "        items_total.add(node)\n",
    "        if node == 'start' or node == 'end':\n",
    "            item_type[node] = 0\n",
    "        elif node.upper() == node:\n",
    "            item_type[node] = 0\n",
    "        else:\n",
    "            item_type[node] = 1\n",
    "\n",
    "# Now lets get all paths and store in dictionary\n",
    "# Key is starting point and value is list of all connections\n",
    "paths = defaultdict(set)\n",
    "\n",
    "for item in items_total:\n",
    "    for edge in data12:\n",
    "        nodes = edge.split('-')\n",
    "        if nodes[0] == item:\n",
    "            paths[item].add(nodes[1])\n",
    "        if nodes[1] == item:\n",
    "            paths[item].add(nodes[0])\n"
   ],
   "metadata": {
    "collapsed": false,
    "pycharm": {
     "name": "#%%\n"
    }
   }
  },
  {
   "cell_type": "code",
   "execution_count": 251,
   "outputs": [],
   "source": [
    "# lets get started\n",
    "# All starting Treks\n",
    "all_treks = set()\n",
    "for item in paths['start']:\n",
    "    current_path = (','.join(['start', item]),1)\n",
    "    all_treks.add(current_path)\n",
    "\n",
    "# Get list of all lowercase items\n",
    "lower_cases = []\n",
    "for node in items_total:\n",
    "    if item_type[node] == 1:\n",
    "        lower_cases.append(node)\n",
    "\n",
    "# Now lets iterate over creating treks\n",
    "# Store completed treks\n",
    "completed_treks = set()\n",
    "\n",
    "while len(all_treks) != 0:\n",
    "    for item in list(all_treks): # loop through each trek\n",
    "        if item[1] != 0: # Make sure trek is not dead --> should never happen as these are never added to list\n",
    "            split_path = item[0].split(',') # get list of nodes from string\n",
    "            for new_trek in paths[split_path[-1]]: # get all connections to latest node\n",
    "                if new_trek == 'start': # don't bounce between start and first node\n",
    "                    continue\n",
    "                new_path = copy.deepcopy(split_path) # copy\n",
    "                new_path.append(new_trek) # add new node\n",
    "                fails = False # store whether it meets the one lowercase node each criteria\n",
    "                item_count = Counter(new_path) # count number of each node in path\n",
    "                for letters in lower_cases: # if more than one lowercase node it fails\n",
    "                    if item_count[letters]>1:\n",
    "                        fails=True\n",
    "                if new_trek == 'end': # if it ends, its complete\n",
    "                    completed_treks.add((','.join(new_path),0))\n",
    "                elif fails: # if it fails, its complete\n",
    "                    completed_treks.add((','.join(new_path),0))\n",
    "                else: # otherwise it continues adding nodes\n",
    "                    all_treks.add((','.join(new_path),1))\n",
    "        all_treks.remove((','.join(split_path),1)) # remove current node from list to check\n",
    "\n"
   ],
   "metadata": {
    "collapsed": false,
    "pycharm": {
     "name": "#%%\n"
    }
   }
  },
  {
   "cell_type": "code",
   "execution_count": 252,
   "outputs": [
    {
     "name": "stdout",
     "output_type": "stream",
     "text": [
      "5228\n"
     ]
    }
   ],
   "source": [
    "total_good_treks = 0\n",
    "for trek in completed_treks:\n",
    "    #print(trek)\n",
    "    #print(trek[0].split(',')[-1])\n",
    "    if trek[0].split(',')[-1] == 'end':\n",
    "        total_good_treks+=1\n",
    "        #print(trek)\n",
    "print(total_good_treks)\n"
   ],
   "metadata": {
    "collapsed": false,
    "pycharm": {
     "name": "#%%\n"
    }
   }
  },
  {
   "cell_type": "markdown",
   "source": [
    "#### Part 2"
   ],
   "metadata": {
    "collapsed": false,
    "pycharm": {
     "name": "#%% md\n"
    }
   }
  },
  {
   "cell_type": "code",
   "execution_count": 253,
   "outputs": [],
   "source": [
    "# First get all unique items and mark them as upper or lower\n",
    "\n",
    "items_total = set() # store unique items\n",
    "item_type = {} # store item type\n",
    "\n",
    "for edge in data12:\n",
    "    edges = edge.split('-')\n",
    "    for node in edges:\n",
    "        items_total.add(node)\n",
    "        if node == 'start' or node == 'end':\n",
    "            item_type[node] = 0\n",
    "        elif node.upper() == node:\n",
    "            item_type[node] = 0\n",
    "        else:\n",
    "            item_type[node] = 1\n",
    "\n",
    "# Now lets get all paths and store in dictionary\n",
    "# Key is starting point and value is list of all connections\n",
    "paths = defaultdict(set)\n",
    "\n",
    "for item in items_total:\n",
    "    for edge in data12:\n",
    "        nodes = edge.split('-')\n",
    "        if nodes[0] == item:\n",
    "            paths[item].add(nodes[1])\n",
    "        if nodes[1] == item:\n",
    "            paths[item].add(nodes[0])"
   ],
   "metadata": {
    "collapsed": false,
    "pycharm": {
     "name": "#%%\n"
    }
   }
  },
  {
   "cell_type": "code",
   "execution_count": 254,
   "outputs": [],
   "source": [
    "# lets get started\n",
    "# All starting Treks\n",
    "all_treks = set()\n",
    "for item in paths['start']:\n",
    "    current_path = (','.join(['start', item]),1)\n",
    "    all_treks.add(current_path)\n",
    "\n",
    "# Get list of all lowercase items\n",
    "lower_cases = []\n",
    "for node in items_total:\n",
    "    if item_type[node] == 1:\n",
    "        lower_cases.append(node)\n",
    "\n",
    "# Now lets iterate over creating treks\n",
    "# Store completed treks\n",
    "completed_treks = set()\n",
    "\n",
    "while len(all_treks) != 0:\n",
    "    #print(len(all_treks))\n",
    "    for item in list(all_treks): # loop through each trek\n",
    "        if item[1] != 0: # Make sure trek is not dead --> should never happen as these are never added to list\n",
    "            split_path = item[0].split(',') # get list of nodes from string\n",
    "            for new_trek in paths[split_path[-1]]: # get all connections to latest node\n",
    "                if new_trek == 'start': # don't bounce between start and first node\n",
    "                    continue\n",
    "                new_path = copy.deepcopy(split_path) # copy\n",
    "                new_path.append(new_trek) # add new node\n",
    "                fails = 0 # in this iteration, store number of lower cases with more than two visits\n",
    "                failed = False\n",
    "                item_count = Counter(new_path) # count number of each node in path\n",
    "                for letters in lower_cases: # if more than one lowercase node it fails\n",
    "                    if item_count[letters]>1:\n",
    "                        fails+=1\n",
    "                    if item_count[letters]>2:\n",
    "                        failed = True\n",
    "                #print(fails)\n",
    "                if new_trek == 'end': # if it ends, its complete\n",
    "                    completed_treks.add((','.join(new_path),0))\n",
    "                elif fails > 1 or failed: # if it fails, its complete\n",
    "                    completed_treks.add((','.join(new_path),0))\n",
    "                else: # otherwise it continues adding nodes\n",
    "                    all_treks.add((','.join(new_path),1))\n",
    "\n",
    "        all_treks.remove((','.join(split_path),1)) # remove current node from list to check\n",
    "    #print(all_treks)"
   ],
   "metadata": {
    "collapsed": false,
    "pycharm": {
     "name": "#%%\n"
    }
   }
  },
  {
   "cell_type": "code",
   "execution_count": 255,
   "outputs": [
    {
     "name": "stdout",
     "output_type": "stream",
     "text": [
      "131228\n"
     ]
    }
   ],
   "source": [
    "total_good_treks = 0\n",
    "for trek in completed_treks:\n",
    "    #print(trek)\n",
    "    #print(trek[0].split(',')[-1])\n",
    "    if trek[0].split(',')[-1] == 'end':\n",
    "        total_good_treks+=1\n",
    "        #print(trek)\n",
    "print(total_good_treks)"
   ],
   "metadata": {
    "collapsed": false,
    "pycharm": {
     "name": "#%%\n"
    }
   }
  },
  {
   "cell_type": "markdown",
   "source": [
    "### Day 13"
   ],
   "metadata": {
    "collapsed": false,
    "pycharm": {
     "name": "#%% md\n"
    }
   }
  },
  {
   "cell_type": "markdown",
   "source": [
    "#### Part 1"
   ],
   "metadata": {
    "collapsed": false,
    "pycharm": {
     "name": "#%% md\n"
    }
   }
  },
  {
   "cell_type": "code",
   "execution_count": 653,
   "outputs": [],
   "source": [
    "data13 = [] # Store measurements\n",
    "with open('day_13_data.txt') as f:\n",
    "    for i in f.readlines():\n",
    "        data13.append(i.split(\"\\n\")[0])\n",
    "data13.remove('')"
   ],
   "metadata": {
    "collapsed": false,
    "pycharm": {
     "name": "#%%\n"
    }
   }
  },
  {
   "cell_type": "code",
   "execution_count": 654,
   "outputs": [],
   "source": [
    "coords1 = [i for i in data13 if i[0].isdigit()]\n",
    "instructions = [i for i in data13 if not i[0].isdigit()]\n",
    "\n",
    "coords1 = [(int(i.split(',')[1]), int(i.split(',')[0])) for i in coords1]\n"
   ],
   "metadata": {
    "collapsed": false,
    "pycharm": {
     "name": "#%%\n"
    }
   }
  },
  {
   "cell_type": "code",
   "execution_count": 655,
   "outputs": [],
   "source": [
    "def fold_paper(coords, instr):\n",
    "    instruction = instr.split(' ')[2]\n",
    "    direction = instruction.split('=')[0]\n",
    "    value = int(instruction.split('=')[1])\n",
    "\n",
    "    new_coords = []\n",
    "    if direction == 'x':\n",
    "        for i in coords:\n",
    "            if i[1] > value:\n",
    "                new_coords.append((i[0], value*2 - i[1]))\n",
    "            else:\n",
    "                new_coords.append(i)\n",
    "    else:\n",
    "        for i in coords:\n",
    "            if i[0] > value:\n",
    "                new_coords.append((value*2 - i[0], i[1]))\n",
    "            else:\n",
    "                new_coords.append(i)\n",
    "    return set(new_coords)"
   ],
   "metadata": {
    "collapsed": false,
    "pycharm": {
     "name": "#%%\n"
    }
   }
  },
  {
   "cell_type": "code",
   "execution_count": 656,
   "outputs": [
    {
     "name": "stdout",
     "output_type": "stream",
     "text": [
      "610\n"
     ]
    }
   ],
   "source": [
    "my_coords = fold_paper(coords1, instructions[0])\n",
    "print(len(my_coords))"
   ],
   "metadata": {
    "collapsed": false,
    "pycharm": {
     "name": "#%%\n"
    }
   }
  },
  {
   "cell_type": "markdown",
   "source": [
    "#### Part 2"
   ],
   "metadata": {
    "collapsed": false,
    "pycharm": {
     "name": "#%% md\n"
    }
   }
  },
  {
   "cell_type": "code",
   "execution_count": 657,
   "outputs": [
    {
     "name": "stdout",
     "output_type": "stream",
     "text": [
      "fold along x=655\n",
      "fold along y=447\n",
      "fold along x=327\n",
      "fold along y=223\n",
      "fold along x=163\n",
      "fold along y=111\n",
      "fold along x=81\n",
      "fold along y=55\n",
      "fold along x=40\n",
      "fold along y=27\n",
      "fold along y=13\n",
      "fold along y=6\n"
     ]
    }
   ],
   "source": [
    "from matplotlib import pyplot as plt\n",
    "for instr in instructions:\n",
    "    print(instr)\n",
    "    coords1 = fold_paper(coords1,instr)\n",
    "\n",
    "max_row = max([i[0] for i in coords1])+1\n",
    "max_col = max([i[1] for i in coords1])+1\n",
    "min_col = min(i[1] for i in coords1)-1\n",
    "\n",
    "final_mat = np.zeros((max_row,max_col-min_col))\n",
    "\n",
    "for c in coords1:\n",
    "    final_mat[c[0],c[1]] = 1\n",
    "\n",
    "pd.DataFrame(final_mat).to_csv('day_13_message.csv', header=None, index=False)"
   ],
   "metadata": {
    "collapsed": false,
    "pycharm": {
     "name": "#%%\n"
    }
   }
  }
 ],
 "metadata": {
  "kernelspec": {
   "display_name": "Python 3",
   "language": "python",
   "name": "python3"
  },
  "language_info": {
   "codemirror_mode": {
    "name": "ipython",
    "version": 3
   },
   "file_extension": ".py",
   "mimetype": "text/x-python",
   "name": "python",
   "nbconvert_exporter": "python",
   "pygments_lexer": "ipython3",
   "version": "3.7.3"
  }
 },
 "nbformat": 4,
 "nbformat_minor": 2
}