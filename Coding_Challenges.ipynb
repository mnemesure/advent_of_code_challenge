{
 "cells": [
  {
   "cell_type": "markdown",
   "metadata": {},
   "source": [
    "# Advent of Code Challenges\n",
    "Code by Matthew Nemesure "
   ]
  },
  {
   "cell_type": "markdown",
   "metadata": {},
   "source": [
    "## Day 1"
   ]
  },
  {
   "cell_type": "markdown",
   "metadata": {},
   "source": [
    "### Part 1\n",
    "\n",
    "To do this, count the number of times a depth measurement increases from the previous measurement. (There is no measurement before the first measurement.)"
   ]
  },
  {
   "cell_type": "code",
   "execution_count": 4,
   "metadata": {},
   "outputs": [],
   "source": [
    "data = [] # Store measurements\n",
    "with open('day_1_data.txt') as f:\n",
    "    for i in f.readlines():\n",
    "        data.append(int(i.split(\"\\n\")[0]))"
   ]
  },
  {
   "cell_type": "code",
   "execution_count": 5,
   "metadata": {},
   "outputs": [
    {
     "data": {
      "text/plain": [
       "1374"
      ]
     },
     "execution_count": 5,
     "metadata": {},
     "output_type": "execute_result"
    }
   ],
   "source": [
    "def calc_increased(data):\n",
    "    increased = 0  # Store number of increases\n",
    "    for ind, item in enumerate(data):\n",
    "        if ind == 0:  # Skip first index\n",
    "            continue  \n",
    "        if item > data[ind-1]:  # Check if increased from previous data point\n",
    "            increased +=1  # Count it\n",
    "    return increased\n",
    "\n",
    "calc_increased(data)"
   ]
  },
  {
   "cell_type": "markdown",
   "metadata": {},
   "source": [
    "### Part 2\n",
    "\n",
    "Your goal now is to count the number of times the sum of measurements in this sliding window increases from the previous sum. So, compare A with B, then compare B with C, then C with D, and so on. Stop when there aren't enough measurements left to create a new three-measurement sum."
   ]
  },
  {
   "cell_type": "code",
   "execution_count": 6,
   "metadata": {},
   "outputs": [],
   "source": [
    "sliding_window_data = []  # Hold all windowed sums\n",
    "for ind, item in enumerate(data):  # Loop through data\n",
    "    if ind <= len(data)-3:  # Stop at the 2nd to last index\n",
    "        sliding_window_data.append(sum(data[ind:ind+3]))  # add sum of current index to index + 3 to list"
   ]
  },
  {
   "cell_type": "code",
   "execution_count": 7,
   "metadata": {},
   "outputs": [
    {
     "data": {
      "text/plain": [
       "1418"
      ]
     },
     "execution_count": 7,
     "metadata": {},
     "output_type": "execute_result"
    }
   ],
   "source": [
    "calc_increased(sliding_window_data)  # Run the calc_increased function same as part 1"
   ]
  },
  {
   "cell_type": "markdown",
   "metadata": {},
   "source": [
    "## Day 2"
   ]
  },
  {
   "cell_type": "markdown",
   "metadata": {},
   "source": [
    "### Part 1"
   ]
  },
  {
   "cell_type": "markdown",
   "metadata": {},
   "source": [
    "Your horizontal position and depth both start at 0. The steps above would then modify them as follows:\n",
    "\n",
    "    forward 5 adds 5 to your horizontal position, a total of 5.\n",
    "    down 5 adds 5 to your depth, resulting in a value of 5.\n",
    "    forward 8 adds 8 to your horizontal position, a total of 13.\n",
    "    up 3 decreases your depth by 3, resulting in a value of 2.\n",
    "    down 8 adds 8 to your depth, resulting in a value of 10.\n",
    "    forward 2 adds 2 to your horizontal position, a total of 15.\n",
    "    \n",
    "After following these instructions, you would have a horizontal position of 15 and a depth of 10. (Multiplying these together produces 150.)\n",
    "\n",
    "Calculate the horizontal position and depth you would have after following the planned course. What do you get if you multiply your final horizontal position by your final depth?"
   ]
  },
  {
   "cell_type": "code",
   "execution_count": 4,
   "metadata": {},
   "outputs": [],
   "source": [
    "data2 = [] # Store measurements\n",
    "with open('day_2_data.txt') as f:\n",
    "    for i in f.readlines():\n",
    "        data2.append(i.split(\"\\n\")[0])\n"
   ]
  },
  {
   "cell_type": "code",
   "execution_count": 8,
   "metadata": {},
   "outputs": [],
   "source": [
    "class submarine:\n",
    "    def __init__(self, horizontal_start = 0, vertical_start = 0):\n",
    "        self.horizontal_position = horizontal_start\n",
    "        self.vertical_position = vertical_start\n",
    "        \n",
    "    def move_sub(self, instructions):\n",
    "        split_instructions = instructions.split(\" \")\n",
    "        \n",
    "        direction = split_instructions[0]\n",
    "        amount = int(split_instructions[1])\n",
    "        \n",
    "        if direction == 'forward':\n",
    "            self.horizontal_position+=amount\n",
    "        elif direction == 'backward': # Doesn't seem to be in this data\n",
    "            self.horizontal_position-=amount\n",
    "        elif direction == 'down':\n",
    "            self.vertical_position+=amount\n",
    "        elif direction == 'up':\n",
    "            self.vertical_position-=amount\n",
    "        \n",
    "    def multiply_horizontal_vertical(self):\n",
    "        return self.horizontal_position*self.vertical_position\n",
    "        "
   ]
  },
  {
   "cell_type": "code",
   "execution_count": 10,
   "metadata": {},
   "outputs": [
    {
     "name": "stdout",
     "output_type": "stream",
     "text": [
      "1940\n",
      "861\n",
      "1670340\n"
     ]
    }
   ],
   "source": [
    "my_sub = submarine()\n",
    "for instructions in data2:\n",
    "    my_sub.move_sub(instructions)\n",
    "    \n",
    "print(my_sub.horizontal_position)\n",
    "print(my_sub.vertical_position)\n",
    "print(my_sub.multiply_horizontal_vertical())\n"
   ]
  },
  {
   "cell_type": "markdown",
   "metadata": {},
   "source": [
    "### Part 2"
   ]
  },
  {
   "cell_type": "markdown",
   "metadata": {},
   "source": [
    "In addition to horizontal position and depth, you'll also need to track a third value, aim, which also starts at 0. The commands also mean something entirely different than you first thought:\n",
    "\n",
    "down X increases your aim by X units.\n",
    "up X decreases your aim by X units.\n",
    "forward X does two things:\n",
    "It increases your horizontal position by X units.\n",
    "It increases your depth by your aim multiplied by X.\n",
    "Again note that since you're on a submarine, down and up do the opposite of what you might expect: \"down\" means aiming in the positive direction.\n",
    "\n",
    "Now, the above example does something different:\n",
    "\n",
    "    forward 5 adds 5 to your horizontal position, a total of 5. Because your aim is 0, your depth does not change.\n",
    "    down 5 adds 5 to your aim, resulting in a value of 5.\n",
    "    forward 8 adds 8 to your horizontal position, a total of 13. Because your aim is 5, your depth increases by 8*5=40.\n",
    "    up 3 decreases your aim by 3, resulting in a value of 2.\n",
    "    down 8 adds 8 to your aim, resulting in a value of 10.\n",
    "    forward 2 adds 2 to your horizontal position, a total of 15. Because your aim is 10, your depth increases by 2*10=20 to a total of 60.\n",
    "    After following these new instructions, you would have a horizontal position of 15 and a depth of 60. (Multiplying these produces 900.)\n",
    "\n",
    "Using this new interpretation of the commands, calculate the horizontal position and depth you would have after following the planned course. What do you get if you multiply your final horizontal position by your final depth?"
   ]
  },
  {
   "cell_type": "code",
   "execution_count": 12,
   "metadata": {},
   "outputs": [
    {
     "name": "stdout",
     "output_type": "stream",
     "text": [
      "1940\n",
      "1007368\n",
      "1954293920\n"
     ]
    }
   ],
   "source": [
    "# Updated submarine\n",
    "class new_improved_submarine:\n",
    "    def __init__(self, horizontal_start = 0, vertical_start = 0, aim = 0):\n",
    "        self.horizontal_position = horizontal_start\n",
    "        self.vertical_position = vertical_start\n",
    "        self.aim = aim\n",
    "        \n",
    "    def move_sub(self, instructions):\n",
    "        split_instructions = instructions.split(\" \")\n",
    "        \n",
    "        direction = split_instructions[0]\n",
    "        amount = int(split_instructions[1])\n",
    "        \n",
    "        if direction == 'forward':\n",
    "            self.horizontal_position+=amount\n",
    "            self.vertical_position+=amount*self.aim\n",
    "        elif direction == 'backward': # Doesn't seem to be in this data\n",
    "            self.horizontal_position-=amount\n",
    "        elif direction == 'down':\n",
    "            self.aim+=amount\n",
    "        elif direction == 'up':\n",
    "            self.aim-=amount\n",
    "        \n",
    "    def multiply_horizontal_vertical(self):\n",
    "        return self.horizontal_position*self.vertical_position\n",
    "\n",
    "    \n",
    "my_sub_improved = new_improved_submarine()\n",
    "for instructions in data2:\n",
    "    my_sub_improved.move_sub(instructions)\n",
    "    \n",
    "print(my_sub_improved.horizontal_position)\n",
    "print(my_sub_improved.vertical_position)\n",
    "print(my_sub_improved.multiply_horizontal_vertical())"
   ]
  },
  {
   "cell_type": "markdown",
   "metadata": {},
   "source": [
    "## Day 3"
   ]
  },
  {
   "cell_type": "markdown",
   "metadata": {},
   "source": [
    "### Part 1"
   ]
  },
  {
   "cell_type": "markdown",
   "metadata": {},
   "source": [
    "You need to use the binary numbers in the diagnostic report to generate two new binary numbers (called the gamma rate and the epsilon rate). The power consumption can then be found by multiplying the gamma rate by the epsilon rate.\n",
    "\n",
    "Each bit in the gamma rate can be determined by finding the most common bit in the corresponding position of all numbers in the diagnostic report. For example, given the following diagnostic report:\n",
    "\n",
    "00100\n",
    "11110\n",
    "10110\n",
    "10111\n",
    "10101\n",
    "01111\n",
    "00111\n",
    "11100\n",
    "10000\n",
    "11001\n",
    "00010\n",
    "01010\n",
    "Considering only the first bit of each number, there are five 0 bits and seven 1 bits. Since the most common bit is 1, the first bit of the gamma rate is 1.\n",
    "\n",
    "The most common second bit of the numbers in the diagnostic report is 0, so the second bit of the gamma rate is 0.\n",
    "\n",
    "The most common value of the third, fourth, and fifth bits are 1, 1, and 0, respectively, and so the final three bits of the gamma rate are 110.\n",
    "\n",
    "So, the gamma rate is the binary number 10110, or 22 in decimal.\n",
    "\n",
    "The epsilon rate is calculated in a similar way; rather than use the most common bit, the least common bit from each position is used. So, the epsilon rate is 01001, or 9 in decimal. Multiplying the gamma rate (22) by the epsilon rate (9) produces the power consumption, 198.\n",
    "\n",
    "Use the binary numbers in your diagnostic report to calculate the gamma rate and epsilon rate, then multiply them together. What is the power consumption of the submarine? (Be sure to represent your answer in decimal, not binary.)"
   ]
  },
  {
   "cell_type": "code",
   "execution_count": 14,
   "metadata": {},
   "outputs": [],
   "source": [
    "from collections import Counter # Useful package here"
   ]
  },
  {
   "cell_type": "code",
   "execution_count": 12,
   "metadata": {},
   "outputs": [],
   "source": [
    "data3 = [] # Store measurements\n",
    "with open('day_3_data.txt') as f:\n",
    "    for i in f.readlines():\n",
    "        data3.append(i.split(\"\\n\")[0])"
   ]
  },
  {
   "cell_type": "code",
   "execution_count": 18,
   "metadata": {},
   "outputs": [],
   "source": [
    "digit_list = {} # Dictionary where key is the digit index (1,2,3,4,5 etc.) and value is list of entries over data\n",
    "for digit in range(len(data3[0])): # loop through each digit\n",
    "    digit_list[digit] = [] # instatiate list as dict entry\n",
    "    for item in data3:\n",
    "        digit_list[digit].append(item[digit]) # add item to dict"
   ]
  },
  {
   "cell_type": "code",
   "execution_count": 23,
   "metadata": {},
   "outputs": [],
   "source": [
    "gamma_rate = [] # store gamma values\n",
    "epsilon_rate = [] # store epsilon valeus\n",
    "for key in digit_list.keys(): # loop through digit keys\n",
    "    common = Counter(digit_list[key]).most_common() # get most common and least common entries\n",
    "    gamma_rate.append(common[0][0]) # most common entry\n",
    "    epsilon_rate.append(common[-1][0]) # least common entry"
   ]
  },
  {
   "cell_type": "code",
   "execution_count": 25,
   "metadata": {},
   "outputs": [
    {
     "data": {
      "text/plain": [
       "845186"
      ]
     },
     "execution_count": 25,
     "metadata": {},
     "output_type": "execute_result"
    }
   ],
   "source": [
    "gamma = \"\".join(gamma_rate)\n",
    "epsilon = \"\".join(epsilon_rate)\n",
    "\n",
    "answer = int(gamma,2) * int(epsilon,2)\n",
    "answer"
   ]
  },
  {
   "cell_type": "markdown",
   "metadata": {},
   "source": [
    "### Part 2 - This is a fun one"
   ]
  },
  {
   "cell_type": "markdown",
   "metadata": {},
   "source": [
    "Keep only numbers selected by the bit criteria for the type of rating value for which you are searching. Discard numbers which do not match the bit criteria.\n",
    "If you only have one number left, stop; this is the rating value for which you are searching.\n",
    "Otherwise, repeat the process, considering the next bit to the right.\n",
    "The bit criteria depends on which type of rating value you want to find:\n",
    "\n",
    "To find oxygen generator rating, determine the most common value (0 or 1) in the current bit position, and keep only numbers with that bit in that position. If 0 and 1 are equally common, keep values with a 1 in the position being considered.\n",
    "To find CO2 scrubber rating, determine the least common value (0 or 1) in the current bit position, and keep only numbers with that bit in that position. If 0 and 1 are equally common, keep values with a 0 in the position being considered.\n",
    "For example, to determine the oxygen generator rating value using the same example diagnostic report from above:\n",
    "\n",
    "Start with all 12 numbers and consider only the first bit of each number. There are more 1 bits (7) than 0 bits (5), so keep only the 7 numbers with a 1 in the first position: 11110, 10110, 10111, 10101, 11100, 10000, and 11001.\n",
    "Then, consider the second bit of the 7 remaining numbers: there are more 0 bits (4) than 1 bits (3), so keep only the 4 numbers with a 0 in the second position: 10110, 10111, 10101, and 10000.\n",
    "In the third position, three of the four numbers have a 1, so keep those three: 10110, 10111, and 10101.\n",
    "In the fourth position, two of the three numbers have a 1, so keep those two: 10110 and 10111.\n",
    "In the fifth position, there are an equal number of 0 bits and 1 bits (one each). So, to find the oxygen generator rating, keep the number with a 1 in that position: 10111.\n",
    "As there is only one number left, stop; the oxygen generator rating is 10111, or 23 in decimal.\n",
    "Then, to determine the CO2 scrubber rating value from the same example above:\n",
    "\n",
    "Start again with all 12 numbers and consider only the first bit of each number. There are fewer 0 bits (5) than 1 bits (7), so keep only the 5 numbers with a 0 in the first position: 00100, 01111, 00111, 00010, and 01010.\n",
    "Then, consider the second bit of the 5 remaining numbers: there are fewer 1 bits (2) than 0 bits (3), so keep only the 2 numbers with a 1 in the second position: 01111 and 01010.\n",
    "In the third position, there are an equal number of 0 bits and 1 bits (one each). So, to find the CO2 scrubber rating, keep the number with a 0 in that position: 01010.\n",
    "As there is only one number left, stop; the CO2 scrubber rating is 01010, or 10 in decimal."
   ]
  },
  {
   "cell_type": "code",
   "execution_count": 51,
   "metadata": {},
   "outputs": [
    {
     "name": "stdout",
     "output_type": "stream",
     "text": [
      "['010110110011']\n",
      "['110001101010']\n",
      "1459\n",
      "3178\n",
      "4636702\n"
     ]
    }
   ],
   "source": [
    "# First lets turn my code from part 1 into a function - Need to add clause to account for ties\n",
    "\n",
    "def get_gamma_value(input_sequence):\n",
    "    digit_list = {} # Dictionary where key is the digit index (1,2,3,4,5 etc.) and value is list of entries over data\n",
    "    for digit in range(len(input_sequence[0])): # loop through each digit\n",
    "        digit_list[digit] = [] # instatiate list as dict entry\n",
    "        for item in input_sequence:\n",
    "            digit_list[digit].append(item[digit]) # add item to dict\n",
    "    gamma_rate = [] # store gamma values\n",
    "    epsilon_rate = [] # store epsilon valeus\n",
    "    for key in digit_list.keys(): # loop through digit keys\n",
    "        common = Counter(digit_list[key]).most_common() # get most common and least common entries\n",
    "        if common[0][1] == common[-1][1]:\n",
    "            gamma_rate.append('1')\n",
    "            epsilon_rate.append('0')\n",
    "        else:\n",
    "            gamma_rate.append(common[0][0]) # most common entry\n",
    "            epsilon_rate.append(common[-1][0]) # least common entry\n",
    "    gamma = \"\".join(gamma_rate)\n",
    "    epsilon = \"\".join(epsilon_rate)\n",
    "    return gamma, epsilon\n",
    "\n",
    "# Now lets begin since we have a function that can grab the most common values given an input sequence\n",
    "\n",
    "viable_codes_g = data3 # store viable codes for oxygen (gamma)\n",
    "viable_codes_e = data3 # store viable codes for c02 (epsilon)\n",
    "for i in range(len(viable_codes_g[0])): # loop through each index\n",
    "    if len(viable_codes_g) != 1: # stop if one value left - obviously doesn't account for edge cases\n",
    "        gamma_p2, epsilon_p2 = get_gamma_value(viable_codes_g) # calculate gamma with the remaining viable codes\n",
    "        new_viable_codes_g = [] # store new viable codes\n",
    "        for code in viable_codes_g: # loop through current viables\n",
    "            if code[i] == gamma_p2[i]: # check parameter\n",
    "                new_viable_codes_g.append(code) # if met, add to new viable codes\n",
    "    if len(viable_codes_e) != 1: # repeat process for epsilon\n",
    "        gamma_p2, epsilon_p2 = get_gamma_value(viable_codes_e)\n",
    "        new_viable_codes_e = []\n",
    "        for code in viable_codes_e:\n",
    "            if code[i] == epsilon_p2[i]:\n",
    "                new_viable_codes_e.append(code)\n",
    "    viable_codes_g = new_viable_codes_g # overwrite viable codes and repeat\n",
    "    viable_codes_e = new_viable_codes_e\n",
    "\n",
    "print(viable_codes_g)\n",
    "print(viable_codes_e)\n",
    "print(int(viable_codes_g[0],2))\n",
    "print(int(viable_codes_e[0],2))\n",
    "\n",
    "print(int(viable_codes_g[0],2)*int(viable_codes_e[0],2))"
   ]
  },
  {
   "cell_type": "markdown",
   "metadata": {},
   "source": [
    "## Day 3"
   ]
  },
  {
   "cell_type": "markdown",
   "metadata": {},
   "source": [
    "### Part 1 - Getting more difficult here"
   ]
  },
  {
   "cell_type": "markdown",
   "metadata": {},
   "source": [
    "After the first five numbers are drawn (7, 4, 9, 5, and 11), there are no winners, but the boards are marked as follows (shown here adjacent to each other to save space):\n",
    "\n",
    "After the next six numbers are drawn (17, 23, 2, 0, 14, and 21), there are still no winners:\n",
    "\n",
    "Finally, 24 is drawn:\n",
    "\n",
    "At this point, the third board wins because it has at least one complete row or column of marked numbers (in this case, the entire top row is marked: 14 21 17 24 4).\n",
    "\n",
    "The score of the winning board can now be calculated. Start by finding the sum of all unmarked numbers on that board; in this case, the sum is 188. Then, multiply that sum by the number that was just called when the board won, 24, to get the final score, 188 * 24 = 4512."
   ]
  },
  {
   "cell_type": "code",
   "execution_count": 76,
   "metadata": {},
   "outputs": [
    {
     "name": "stdout",
     "output_type": "stream",
     "text": [
      "[17, 2, 33, 86, 38, 41, 4, 34, 91, 61, 11, 81, 3, 59, 29, 71, 26, 44, 54, 89, 46, 9, 85, 62, 23, 76, 45, 24, 78, 14, 58, 48, 57, 40, 21, 49, 7, 99, 8, 56, 50, 19, 53, 55, 10, 94, 75, 68, 6, 83, 84, 88, 52, 80, 73, 74, 79, 36, 70, 28, 37, 0, 42, 98, 96, 92, 27, 90, 47, 20, 5, 77, 69, 93, 31, 30, 95, 25, 63, 65, 51, 72, 60, 16, 12, 64, 18, 13, 1, 35, 15, 66, 67, 43, 22, 87, 97, 32, 39, 82]\n"
     ]
    },
    {
     "data": {
      "text/html": [
       "<div>\n",
       "<style scoped>\n",
       "    .dataframe tbody tr th:only-of-type {\n",
       "        vertical-align: middle;\n",
       "    }\n",
       "\n",
       "    .dataframe tbody tr th {\n",
       "        vertical-align: top;\n",
       "    }\n",
       "\n",
       "    .dataframe thead th {\n",
       "        text-align: right;\n",
       "    }\n",
       "</style>\n",
       "<table border=\"1\" class=\"dataframe\">\n",
       "  <thead>\n",
       "    <tr style=\"text-align: right;\">\n",
       "      <th></th>\n",
       "      <th>0</th>\n",
       "    </tr>\n",
       "  </thead>\n",
       "  <tbody>\n",
       "    <tr>\n",
       "      <th>0</th>\n",
       "      <td>10 27 53 91 86</td>\n",
       "    </tr>\n",
       "    <tr>\n",
       "      <th>1</th>\n",
       "      <td>15 94 47 38 61</td>\n",
       "    </tr>\n",
       "    <tr>\n",
       "      <th>2</th>\n",
       "      <td>32 68  8 88  9</td>\n",
       "    </tr>\n",
       "    <tr>\n",
       "      <th>3</th>\n",
       "      <td>35 84  3  7 87</td>\n",
       "    </tr>\n",
       "    <tr>\n",
       "      <th>4</th>\n",
       "      <td>62 78 90 66 64</td>\n",
       "    </tr>\n",
       "    <tr>\n",
       "      <th>...</th>\n",
       "      <td>...</td>\n",
       "    </tr>\n",
       "    <tr>\n",
       "      <th>495</th>\n",
       "      <td>62 50 34 16  8</td>\n",
       "    </tr>\n",
       "    <tr>\n",
       "      <th>496</th>\n",
       "      <td>75 88 84 33 29</td>\n",
       "    </tr>\n",
       "    <tr>\n",
       "      <th>497</th>\n",
       "      <td>2 64 31 41 86</td>\n",
       "    </tr>\n",
       "    <tr>\n",
       "      <th>498</th>\n",
       "      <td>94 45 76 70  3</td>\n",
       "    </tr>\n",
       "    <tr>\n",
       "      <th>499</th>\n",
       "      <td>39 89 66  4 24</td>\n",
       "    </tr>\n",
       "  </tbody>\n",
       "</table>\n",
       "<p>500 rows × 1 columns</p>\n",
       "</div>"
      ],
      "text/plain": [
       "                  0\n",
       "0    10 27 53 91 86\n",
       "1    15 94 47 38 61\n",
       "2    32 68  8 88  9\n",
       "3    35 84  3  7 87\n",
       "4    62 78 90 66 64\n",
       "..              ...\n",
       "495  62 50 34 16  8\n",
       "496  75 88 84 33 29\n",
       "497   2 64 31 41 86\n",
       "498  94 45 76 70  3\n",
       "499  39 89 66  4 24\n",
       "\n",
       "[500 rows x 1 columns]"
      ]
     },
     "execution_count": 76,
     "metadata": {},
     "output_type": "execute_result"
    }
   ],
   "source": [
    "import pandas as pd\n",
    "import numpy as np\n",
    "bingo_commands = pd.read_csv(\"day_4_data.txt\", sep = '\\n', header = None) # get commands\n",
    "bingo_commands = [int(i) for i in bingo_commands[0][0].split(\",\")]\n",
    "print(bingo_commands)\n",
    "bingo_boards = pd.read_csv(\"day_4_data.txt\", sep = \"\\n\", skiprows=1, header=None) # Read in just bingo boards\n",
    "bingo_boards\n"
   ]
  },
  {
   "cell_type": "code",
   "execution_count": 77,
   "metadata": {},
   "outputs": [],
   "source": [
    "# Process the boards into separate matricies\n",
    "bingo_board_list = []\n",
    "for i in range(0,len(bingo_boards), 5): # loop through with window range 5\n",
    "    bingo_board = bingo_boards.iloc[i:i+5,:] # get the board in unprocessed form\n",
    "    bingo_board_dict = {} # store processed board\n",
    "    for ind, j in enumerate(bingo_board[0]): #loop through each row in board\n",
    "        bingo_board_dict[ind] = [int(num) for num in j.split(\" \") if num != \"\"] #get individual entries\n",
    "    bingo_matrix = np.matrix(pd.DataFrame(bingo_board_dict)) # create matrix\n",
    "    bingo_board_list.append(bingo_matrix) # store in board list"
   ]
  },
  {
   "cell_type": "code",
   "execution_count": 78,
   "metadata": {},
   "outputs": [
    {
     "data": {
      "text/plain": [
       "matrix([[10, 15, 32, 35, 62],\n",
       "        [27, 94, 68, 84, 78],\n",
       "        [53, 47,  8,  3, 90],\n",
       "        [91, 38, 88,  7, 66],\n",
       "        [86, 61,  9, 87, 64]])"
      ]
     },
     "execution_count": 78,
     "metadata": {},
     "output_type": "execute_result"
    }
   ],
   "source": [
    "bingo_board_list[0]"
   ]
  },
  {
   "cell_type": "code",
   "execution_count": 90,
   "metadata": {},
   "outputs": [],
   "source": [
    "# Next we need to create parallel boards to track scores\n",
    "# What functions do we need?\n",
    "# One to generate the tracker list (list of zero matricies that track the hits on each board)\n",
    "# One to update the tracking board given a number and the two boards.\n",
    "# One to check for a winner\n",
    "\n",
    "\n",
    "\n",
    "def generate_tracker_list(bingo_board_list):\n",
    "    bingo_tracker_list = []\n",
    "    for i in range(len(bingo_board_list)):\n",
    "        bingo_tracker_list.append(np.zeros((5,5)))\n",
    "    return bingo_tracker_list\n",
    "\n",
    "# Start with updating boards\n",
    "def update_board(num, bingo_board, tracking_board):\n",
    "    for ind, item in enumerate(bingo_board):\n",
    "        if num in item:\n",
    "            indexes = np.where(np.asarray(item).flatten()==num)\n",
    "            # print(indexes)\n",
    "            tracking_board[ind,indexes] = 1\n",
    "    return tracking_board\n",
    "\n",
    "# Check for winners in a list of tracking boards\n",
    "def check_winners(tracker_list):\n",
    "    winning_inds = []\n",
    "    for ind, track_board in enumerate(tracker_list):\n",
    "        rowsums = track_board.sum(axis=1)\n",
    "        colsums = track_board.sum(axis=0)\n",
    "        if 5 in np.asarray(rowsums).flatten():\n",
    "            winning_inds.append(ind)\n",
    "        if 5 in np.asarray(colsums).flatten():\n",
    "            winning_inds.append(ind)\n",
    "    return winning_inds"
   ]
  },
  {
   "cell_type": "code",
   "execution_count": 96,
   "metadata": {},
   "outputs": [
    {
     "name": "stdout",
     "output_type": "stream",
     "text": [
      "[22] 46\n"
     ]
    }
   ],
   "source": [
    "# Put it all together\n",
    "bingo_tracker_list = generate_tracker_list(bingo_board_list)\n",
    "\n",
    "for called_num in bingo_commands: # Loop bingo commands\n",
    "    for ind, board in enumerate(bingo_board_list): # Loop boards\n",
    "        new_tracking_board = update_board(called_num, board, bingo_tracker_list[ind]) # Update tracking board\n",
    "        #print(new_tracking_board)\n",
    "        bingo_tracker_list[ind] = new_tracking_board # Update tracking board in list\n",
    "    #print(bingo_tracker_list)\n",
    "    winning_board_ind = check_winners(bingo_tracker_list) # find a potential winning board\n",
    "    if winning_board_ind != []: # if there is one - get the number and break the lop\n",
    "        winning_num = called_num\n",
    "        break\n",
    "print(winning_board_ind, winning_num)"
   ]
  },
  {
   "cell_type": "code",
   "execution_count": 97,
   "metadata": {},
   "outputs": [
    {
     "name": "stdout",
     "output_type": "stream",
     "text": [
      "[[73 62 45 89 49]\n",
      " [41 99 10 17 35]\n",
      " [26 58 71 29 24]\n",
      " [87  9 28 46 74]\n",
      " [95 20 39 81 32]]\n",
      "[[0. 0. 0. 1. 0.]\n",
      " [1. 0. 0. 1. 0.]\n",
      " [1. 0. 1. 1. 0.]\n",
      " [0. 0. 0. 1. 0.]\n",
      " [0. 0. 0. 1. 0.]]\n"
     ]
    }
   ],
   "source": [
    "# now lets calculate the final score\n",
    "winning_board = bingo_board_list[winning_board_ind[0]]\n",
    "winning_config = bingo_tracker_list[winning_board_ind[0]]\n",
    "\n",
    "print(winning_board)\n",
    "print(winning_config)\n"
   ]
  },
  {
   "cell_type": "code",
   "execution_count": 105,
   "metadata": {},
   "outputs": [
    {
     "name": "stdout",
     "output_type": "stream",
     "text": [
      "Final answer: 38594\n"
     ]
    }
   ],
   "source": [
    "unmarked_sum = 0\n",
    "for row_ind, i in enumerate(winning_config):\n",
    "    for col_ind, j in enumerate(i):\n",
    "        if j == 0:\n",
    "            unmarked_sum += winning_board[row_ind,col_ind]\n",
    "print(f'Final answer: {unmarked_sum*winning_num}')"
   ]
  },
  {
   "cell_type": "markdown",
   "metadata": {},
   "source": [
    "### Part 2"
   ]
  },
  {
   "cell_type": "markdown",
   "metadata": {},
   "source": [
    "On the other hand, it might be wise to try a different strategy: let the giant squid win.\n",
    "\n",
    "You aren't sure how many bingo boards a giant squid could play at once, so rather than waste time counting its arms, the safe thing to do is to figure out which board will win last and choose that one. That way, no matter which boards it picks, it will win for sure.\n",
    "\n",
    "In the above example, the second board is the last to win, which happens after 13 is eventually called and its middle column is completely marked. If you were to keep playing until this point, the second board would have a sum of unmarked numbers equal to 148 for a final score of 148 * 13 = 1924.\n",
    "\n",
    "Figure out which board will win last. Once it wins, what would its final score be?\n",
    "\n"
   ]
  },
  {
   "cell_type": "code",
   "execution_count": 144,
   "metadata": {},
   "outputs": [
    {
     "name": "stdout",
     "output_type": "stream",
     "text": [
      "[43] 64\n"
     ]
    }
   ],
   "source": [
    "# Put it all together with some modifications \n",
    "bingo_tracker_list = generate_tracker_list(bingo_board_list)\n",
    "previous_winning_board_ind = set()\n",
    "for called_num in bingo_commands: # Loop bingo commands\n",
    "    for ind, board in enumerate(bingo_board_list): # Loop boards\n",
    "        new_tracking_board = update_board(called_num, board, bingo_tracker_list[ind]) # Update tracking board\n",
    "        bingo_tracker_list[ind] = new_tracking_board # Update tracking board in list\n",
    "    winning_board_ind = set(check_winners(bingo_tracker_list)) # all unique winning boards\n",
    "    # when all boards have won or when the numbers run out\n",
    "    if len(winning_board_ind) == len(bingo_tracker_list) or called_num == bingo_commands[-1]:\n",
    "        # Get all winners from current round that didnt win last round\n",
    "        main_list = list(set(winning_board_ind) - set(previous_winning_board_ind)) # get the most recent winner(s)\n",
    "        winning_num=called_num\n",
    "        break\n",
    "    else:\n",
    "        # if you're not done or all winners haven't been found, record the winners from the previous loop\n",
    "        previous_winning_board_ind = winning_board_ind\n",
    "print(main_list, winning_num)"
   ]
  },
  {
   "cell_type": "code",
   "execution_count": 145,
   "metadata": {},
   "outputs": [
    {
     "name": "stdout",
     "output_type": "stream",
     "text": [
      "[[86 53 67 23  4]\n",
      " [89 82 75 63 39]\n",
      " [64 24  3 99  7]\n",
      " [69 16 33 13 73]\n",
      " [76 51 21 43 87]]\n",
      "[[1. 1. 0. 1. 1.]\n",
      " [1. 0. 1. 1. 0.]\n",
      " [1. 1. 1. 1. 1.]\n",
      " [1. 1. 1. 0. 1.]\n",
      " [1. 1. 1. 0. 0.]]\n"
     ]
    }
   ],
   "source": [
    "# now lets calculate the final score\n",
    "losing_board = bingo_board_list[main_list[0]]\n",
    "losing_config = bingo_tracker_list[main_list[0]]\n",
    "\n",
    "print(losing_board)\n",
    "print(losing_config)"
   ]
  },
  {
   "cell_type": "code",
   "execution_count": 146,
   "metadata": {},
   "outputs": [
    {
     "name": "stdout",
     "output_type": "stream",
     "text": [
      "Final answer: 21184\n"
     ]
    }
   ],
   "source": [
    "unmarked_sum = 0\n",
    "for row_ind, i in enumerate(losing_config):\n",
    "    for col_ind, j in enumerate(i):\n",
    "        if j == 0:\n",
    "            unmarked_sum += losing_board[row_ind,col_ind]\n",
    "print(f'Final answer: {unmarked_sum*winning_num}')"
   ]
  },
  {
   "cell_type": "markdown",
   "metadata": {},
   "source": [
    "### Day 5"
   ]
  },
  {
   "cell_type": "markdown",
   "metadata": {},
   "source": [
    "#### Part 1"
   ]
  },
  {
   "cell_type": "markdown",
   "metadata": {},
   "source": [
    "I am just going to start summarising these. Basically given a set of vertical and horizontal lines given a set of endpoints for those lines. Determine how many points on the grid have at least 2 overlapping lines on them"
   ]
  },
  {
   "cell_type": "code",
   "execution_count": 16,
   "metadata": {},
   "outputs": [],
   "source": [
    "import numpy as np"
   ]
  },
  {
   "cell_type": "code",
   "execution_count": 17,
   "metadata": {},
   "outputs": [
    {
     "data": {
      "text/plain": [
       "['822,976 -> 822,117',\n",
       " '387,419 -> 387,468',\n",
       " '659,275 -> 318,616',\n",
       " '535,940 -> 684,940',\n",
       " '294,427 -> 294,88']"
      ]
     },
     "execution_count": 17,
     "metadata": {},
     "output_type": "execute_result"
    }
   ],
   "source": [
    "data5 = [] # Store measurements\n",
    "with open('day_5_data.txt') as f:\n",
    "    for i in f.readlines():\n",
    "        data5.append(i.split(\"\\n\")[0])\n",
    "data5[0:5]"
   ]
  },
  {
   "cell_type": "code",
   "execution_count": 18,
   "metadata": {},
   "outputs": [
    {
     "data": {
      "text/plain": [
       "[[(822, 976), (822, 117)],\n",
       " [(387, 419), (387, 468)],\n",
       " [(659, 275), (318, 616)],\n",
       " [(535, 940), (684, 940)],\n",
       " [(294, 427), (294, 88)]]"
      ]
     },
     "execution_count": 18,
     "metadata": {},
     "output_type": "execute_result"
    }
   ],
   "source": [
    "# Process the data into a better format\n",
    "all_line_pairs = []\n",
    "for item in data5:\n",
    "    split_item = item.split(\" -> \")\n",
    "    item_pairs = []\n",
    "    for sp_item in split_item:\n",
    "        item_pairs.append((int(sp_item.split(',')[0]), int(sp_item.split(',')[1])))\n",
    "    all_line_pairs.append(item_pairs)\n",
    "all_line_pairs[0:5]"
   ]
  },
  {
   "cell_type": "code",
   "execution_count": 19,
   "metadata": {},
   "outputs": [
    {
     "data": {
      "text/plain": [
       "[[(822, 976), (822, 117)],\n",
       " [(387, 419), (387, 468)],\n",
       " [(535, 940), (684, 940)],\n",
       " [(294, 427), (294, 88)],\n",
       " [(534, 387), (402, 387)]]"
      ]
     },
     "execution_count": 19,
     "metadata": {},
     "output_type": "execute_result"
    }
   ],
   "source": [
    "# Now process to grab only pairs where x1=x2 or y1=y2 - representing horizontal and vertical lines\n",
    "horizontal_vertical_line_pairs = []\n",
    "for pair in all_line_pairs:\n",
    "    if pair[0][0] == pair[1][0] or pair[0][1] == pair[1][1]:\n",
    "        horizontal_vertical_line_pairs.append(pair)\n",
    "horizontal_vertical_line_pairs[0:5]"
   ]
  },
  {
   "cell_type": "code",
   "execution_count": 57,
   "metadata": {},
   "outputs": [],
   "source": [
    "# Lets make a few useful functions\n",
    "# One to instantiate a matrix to store lines\n",
    "# One to take in a set of points and update that matrix\n",
    "\n",
    "def instantiate_matrix(line_pairs):\n",
    "    max_item_x = 0\n",
    "    max_item_y = 0\n",
    "    for i in line_pairs:\n",
    "        max_x = max(i[0][0], i[1][0])\n",
    "        max_y = max(i[0][1], i[1][1])\n",
    "        if max_x>max_item_x:\n",
    "            max_item_x = max_x\n",
    "        if max_y>max_item_y:\n",
    "            max_item_y = max_y\n",
    "            \n",
    "    tracking_matrix = np.zeros((max_item_x+1,max_item_y+1))\n",
    "    return tracking_matrix\n",
    "\n",
    "def update_matrix(line_pair, tracking_matrix):\n",
    "    x_diff = abs(line_pair[0][0]-line_pair[1][0])\n",
    "    y_diff = abs(line_pair[0][1]-line_pair[1][1])\n",
    "    # prep for a situation where theyre both unequal in the future even though it cant happen given current\n",
    "    # constraints. Make sure y diff is 0 when x diff is not 0\n",
    "    if x_diff !=0 and y_diff == 0:\n",
    "        starting_x = min(line_pair[0][0],line_pair[1][0])\n",
    "        y_value = line_pair[0][1]\n",
    "        for i in range(starting_x,starting_x+x_diff+1):\n",
    "            tracking_matrix[i,y_value] += 1\n",
    "    elif x_diff ==0 and y_diff != 0:\n",
    "        starting_y = min(line_pair[0][1],line_pair[1][1])\n",
    "        x_value = line_pair[0][0]\n",
    "        for i in range(starting_y,starting_y+y_diff+1):\n",
    "            tracking_matrix[x_value,i] += 1\n",
    "    # For part 2 to handle diagonal lines\n",
    "    elif x_diff != 0 and y_diff != 0: # Lets always build this with X moving in the positive direction\n",
    "        starting_pair = np.argmin([line_pair[0][0],line_pair[1][0]]) # starting with lower X\n",
    "        other_pair = np.argmax([line_pair[0][0],line_pair[1][0]]) # other pair\n",
    "        starting_x = line_pair[starting_pair][0] # lower X\n",
    "        starting_y = line_pair[starting_pair][1] # y can be higher or lower in this case\n",
    "        for ind, i in enumerate(range(starting_x,starting_x+x_diff+1)):\n",
    "            # if starting y is higher, as x increases, y decreases\n",
    "            if line_pair[other_pair][1] < line_pair[starting_pair][1]: \n",
    "                tracking_matrix[i,starting_y-ind] += 1\n",
    "            # if starting y is lower, as x increases, y increases\n",
    "            else:\n",
    "                tracking_matrix[i,starting_y+ind] += 1\n",
    "\n",
    "        \n",
    "    return tracking_matrix"
   ]
  },
  {
   "cell_type": "code",
   "execution_count": 58,
   "metadata": {},
   "outputs": [
    {
     "data": {
      "text/plain": [
       "5294"
      ]
     },
     "execution_count": 58,
     "metadata": {},
     "output_type": "execute_result"
    }
   ],
   "source": [
    "# put the functions together\n",
    "tracking_matrix = instantiate_matrix(horizontal_vertical_line_pairs)\n",
    "for item in horizontal_vertical_line_pairs:\n",
    "    tracking_matrix = update_matrix(item,tracking_matrix)\n",
    "occurrences_more_than_2 = tracking_matrix >= 2\n",
    "answer = occurrences_more_than_2.sum()\n",
    "answer"
   ]
  },
  {
   "cell_type": "markdown",
   "metadata": {},
   "source": [
    "### Part 2"
   ]
  },
  {
   "cell_type": "markdown",
   "metadata": {},
   "source": [
    "Of course now lines can be diagonal - I expected this to be part two. Just have to modify my update matrix function"
   ]
  },
  {
   "cell_type": "code",
   "execution_count": 59,
   "metadata": {},
   "outputs": [
    {
     "data": {
      "text/plain": [
       "21698"
      ]
     },
     "execution_count": 59,
     "metadata": {},
     "output_type": "execute_result"
    }
   ],
   "source": [
    "# put the functions together for part 2\n",
    "# Change from horizontal vertical line pairs to all line pairs\n",
    "tracking_matrix = instantiate_matrix(all_line_pairs)\n",
    "for item in all_line_pairs:\n",
    "    tracking_matrix = update_matrix(item,tracking_matrix)\n",
    "occurrences_more_than_2 = tracking_matrix >= 2\n",
    "answer = occurrences_more_than_2.sum()\n",
    "answer"
   ]
  },
  {
   "cell_type": "markdown",
   "metadata": {},
   "source": [
    "## Day 6"
   ]
  },
  {
   "cell_type": "markdown",
   "metadata": {},
   "source": [
    "### Part 1"
   ]
  },
  {
   "cell_type": "markdown",
   "metadata": {},
   "source": [
    "A lanternfish that creates a new fish resets its timer to 6, not 7 (because 0 is included as a valid timer value). The new lanternfish starts with an internal timer of 8 and does not start counting down until the next day\n",
    "\n",
    "Realizing what you're trying to do, the submarine automatically produces a list of the ages of several hundred nearby lanternfish (your puzzle input). For example, suppose you were given the following list:\n",
    "\n",
    "3,4,3,1,2\n",
    "This list means that the first fish has an internal timer of 3, the second fish has an internal timer of 4, and so on until the fifth fish, which has an internal timer of 2. Simulating these fish over several days would proceed as follows:\n",
    "\n",
    "Initial state: 3,4,3,1,2 <br>\n",
    "After  1 day:  2,3,2,0,1 <br>\n",
    "After  2 days: 1,2,1,6,0,8 <br><br> Each day, a 0 becomes a 6 and adds a new 8 to the end of the list, while each other number decreases by 1 if it was present at the start of the day.\n",
    "\n",
    "In this example, after 18 days, there are a total of 26 fish. After 80 days, there would be a total of 5934.\n",
    "\n",
    "Find a way to simulate lanternfish. How many lanternfish would there be after 80 days?"
   ]
  },
  {
   "cell_type": "code",
   "execution_count": 17,
   "metadata": {},
   "outputs": [],
   "source": [
    "data6 = [] # Store measurements\n",
    "with open('day_6_data.txt') as f:\n",
    "    data6 = [int(i) for i in f.readlines()[0].split(',')]"
   ]
  },
  {
   "cell_type": "code",
   "execution_count": 18,
   "metadata": {},
   "outputs": [
    {
     "data": {
      "text/plain": [
       "[3, 5, 3, 1, 4]"
      ]
     },
     "execution_count": 18,
     "metadata": {},
     "output_type": "execute_result"
    }
   ],
   "source": [
    "# initial state\n",
    "data6[0:5]"
   ]
  },
  {
   "cell_type": "code",
   "execution_count": 19,
   "metadata": {},
   "outputs": [],
   "source": [
    "# So i think this would be pretty easy to do with a for loop and some if statements\n",
    "# However, thinking about what might be next, I want to each lanternfish to be an object\n",
    "# That way i can have it update itself and be more flexible for future problems\n",
    "# There will also be a parent class that is essentially the sea to hold all my lanternfish\n",
    "\n",
    "# Lets start by designing a single lanternfish\n",
    "\n",
    "class Lanternfish:\n",
    "    def __init__(self, current_num):\n",
    "        # initialize with the current timer\n",
    "        self.current_num = current_num\n",
    "    def update_time(self):\n",
    "        # This function will decrease the timer by 1 until 0. \n",
    "        # At 0 it will send the timer back to 8\n",
    "        # It also returns a boolean to say whether or not a new fish should be created \n",
    "        # The creation of the new fish will be managed by the parent class\n",
    "        new_fish = False\n",
    "        if self.current_num != 0:\n",
    "            self.current_num -= 1\n",
    "            return new_fish\n",
    "        elif self.current_num == 0:\n",
    "            self.current_num = 6\n",
    "            new_fish=True\n",
    "            return new_fish\n",
    "\n",
    "class TheOcean:\n",
    "    def __init__(self, inital_fish_list, n_days = 80):\n",
    "        # Init with current list, number of days to simulate and an empty list that will hold \n",
    "        # The new fish list while updating\n",
    "        self.current_fish_list = inital_fish_list\n",
    "        self.next_fish_list = []\n",
    "        self.n_days = n_days\n",
    "        self.n_fish = []\n",
    "    \n",
    "    def proceed_n_days(self):\n",
    "        for day in range(1,self.n_days+1):\n",
    "            num_fish_to_add = 0\n",
    "            for fish in self.current_fish_list:\n",
    "                add_fish = fish.update_time()\n",
    "                if add_fish:\n",
    "                    num_fish_to_add+=1\n",
    "                self.next_fish_list.append(fish)\n",
    "            for new in range(num_fish_to_add):\n",
    "                self.next_fish_list.append(Lanternfish(8))\n",
    "            self.current_fish_list = self.next_fish_list\n",
    "            self.next_fish_list = []\n",
    "            self.n_fish.append(len(self.current_fish_list))\n",
    "            #print(day)"
   ]
  },
  {
   "cell_type": "code",
   "execution_count": 20,
   "metadata": {},
   "outputs": [
    {
     "name": "stdout",
     "output_type": "stream",
     "text": [
      "351092\n"
     ]
    }
   ],
   "source": [
    "# initialize the fish list\n",
    "starting_fish_list = [Lanternfish(i) for i in data6]\n",
    "# initialize the ocean\n",
    "ocean_obj = TheOcean(starting_fish_list)\n",
    "# proceed the default 80 days\n",
    "ocean_obj.proceed_n_days()\n",
    "print(len(ocean_obj.current_fish_list))"
   ]
  },
  {
   "cell_type": "markdown",
   "metadata": {},
   "source": [
    "### Part 2"
   ]
  },
  {
   "cell_type": "markdown",
   "metadata": {},
   "source": [
    "Do the same thing but for 256 days"
   ]
  },
  {
   "cell_type": "code",
   "execution_count": 21,
   "metadata": {},
   "outputs": [],
   "source": [
    "# Okay so this is an interesting task. Just doing the same thing may take too long\n",
    "# Need to come up with more efficient code"
   ]
  },
  {
   "cell_type": "code",
   "execution_count": 22,
   "metadata": {},
   "outputs": [
    {
     "data": {
      "text/plain": [
       "[<matplotlib.lines.Line2D at 0x7f981554c438>]"
      ]
     },
     "execution_count": 22,
     "metadata": {},
     "output_type": "execute_result"
    },
    {
     "data": {
      "image/png": "[encoded data removed]",
      "text/plain": [
       "<Figure size 432x288 with 1 Axes>"
      ]
     },
     "metadata": {
      "needs_background": "light"
     },
     "output_type": "display_data"
    }
   ],
   "source": [
    "from matplotlib import pyplot as plt\n",
    "%matplotlib inline\n",
    "plt.plot(list(range(1,81)), ocean_obj.n_fish)"
   ]
  },
  {
   "cell_type": "code",
   "execution_count": 24,
   "metadata": {},
   "outputs": [
    {
     "name": "stdout",
     "output_type": "stream",
     "text": [
      "1595330616005\n"
     ]
    }
   ],
   "source": [
    "starting_dict = {0:0,1:0,2:0,3:0,4:0,5:0,6:0,7:0,8:0}\n",
    "for i in data6:\n",
    "    starting_dict[i] += 1\n",
    "for i in range(256):\n",
    "    new_dict = {0:0,1:0,2:0,3:0,4:0,5:0,6:0,7:0,8:0}\n",
    "    for key in starting_dict.keys():\n",
    "        if key == 0:\n",
    "            new_dict[6]+=starting_dict[key]\n",
    "            new_dict[8]+=starting_dict[key]\n",
    "        else:\n",
    "            new_dict[key-1]+=starting_dict[key]\n",
    "    starting_dict=new_dict\n",
    "print(sum(starting_dict.values()))"
   ]
  },
  {
   "cell_type": "code",
   "execution_count": null,
   "metadata": {},
   "outputs": [],
   "source": []
  }
 ],
 "metadata": {
  "kernelspec": {
   "display_name": "Python 3",
   "language": "python",
   "name": "python3"
  },
  "language_info": {
   "codemirror_mode": {
    "name": "ipython",
    "version": 3
   },
   "file_extension": ".py",
   "mimetype": "text/x-python",
   "name": "python",
   "nbconvert_exporter": "python",
   "pygments_lexer": "ipython3",
   "version": "3.7.3"
  }
 },
 "nbformat": 4,
 "nbformat_minor": 2
}
